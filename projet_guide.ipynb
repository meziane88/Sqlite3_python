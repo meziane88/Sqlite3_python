{
 "metadata": {
  "language_info": {
   "codemirror_mode": {
    "name": "ipython",
    "version": 3
   },
   "file_extension": ".py",
   "mimetype": "text/x-python",
   "name": "python",
   "nbconvert_exporter": "python",
   "pygments_lexer": "ipython3",
   "version": "3.8.5-final"
  },
  "orig_nbformat": 2,
  "kernelspec": {
   "name": "python_defaultSpec_1599726209239",
   "display_name": "Python 3.8.5 64-bit"
  }
 },
 "nbformat": 4,
 "nbformat_minor": 2,
 "cells": [
  {
   "cell_type": "markdown",
   "metadata": {},
   "source": [
    "# Préparer les données pour SQLITE "
   ]
  },
  {
   "cell_type": "code",
   "execution_count": 1,
   "metadata": {},
   "outputs": [],
   "source": [
    "import pandas as pd \n",
    "import sqlite3 \n",
    "\n",
    "df  = pd.read_csv('academy_awards.csv', encoding='iso-8859-1')"
   ]
  },
  {
   "cell_type": "code",
   "execution_count": 2,
   "metadata": {},
   "outputs": [
    {
     "output_type": "execute_result",
     "data": {
      "text/plain": "          Year               Category          Nominee  \\\n0  2010 (83rd)  Actor -- Leading Role    Javier Bardem   \n1  2010 (83rd)  Actor -- Leading Role     Jeff Bridges   \n2  2010 (83rd)  Actor -- Leading Role  Jesse Eisenberg   \n3  2010 (83rd)  Actor -- Leading Role      Colin Firth   \n4  2010 (83rd)  Actor -- Leading Role     James Franco   \n\n                          Additional Info Won? Unnamed: 5 Unnamed: 6  \\\n0                      Biutiful {'Uxbal'}   NO        NaN        NaN   \n1           True Grit {'Rooster Cogburn'}   NO        NaN        NaN   \n2  The Social Network {'Mark Zuckerberg'}   NO        NaN        NaN   \n3    The King's Speech {'King George VI'}  YES        NaN        NaN   \n4              127 Hours {'Aron Ralston'}   NO        NaN        NaN   \n\n  Unnamed: 7 Unnamed: 8 Unnamed: 9 Unnamed: 10  \n0        NaN        NaN        NaN         NaN  \n1        NaN        NaN        NaN         NaN  \n2        NaN        NaN        NaN         NaN  \n3        NaN        NaN        NaN         NaN  \n4        NaN        NaN        NaN         NaN  ",
      "text/html": "<div>\n<style scoped>\n    .dataframe tbody tr th:only-of-type {\n        vertical-align: middle;\n    }\n\n    .dataframe tbody tr th {\n        vertical-align: top;\n    }\n\n    .dataframe thead th {\n        text-align: right;\n    }\n</style>\n<table border=\"1\" class=\"dataframe\">\n  <thead>\n    <tr style=\"text-align: right;\">\n      <th></th>\n      <th>Year</th>\n      <th>Category</th>\n      <th>Nominee</th>\n      <th>Additional Info</th>\n      <th>Won?</th>\n      <th>Unnamed: 5</th>\n      <th>Unnamed: 6</th>\n      <th>Unnamed: 7</th>\n      <th>Unnamed: 8</th>\n      <th>Unnamed: 9</th>\n      <th>Unnamed: 10</th>\n    </tr>\n  </thead>\n  <tbody>\n    <tr>\n      <th>0</th>\n      <td>2010 (83rd)</td>\n      <td>Actor -- Leading Role</td>\n      <td>Javier Bardem</td>\n      <td>Biutiful {'Uxbal'}</td>\n      <td>NO</td>\n      <td>NaN</td>\n      <td>NaN</td>\n      <td>NaN</td>\n      <td>NaN</td>\n      <td>NaN</td>\n      <td>NaN</td>\n    </tr>\n    <tr>\n      <th>1</th>\n      <td>2010 (83rd)</td>\n      <td>Actor -- Leading Role</td>\n      <td>Jeff Bridges</td>\n      <td>True Grit {'Rooster Cogburn'}</td>\n      <td>NO</td>\n      <td>NaN</td>\n      <td>NaN</td>\n      <td>NaN</td>\n      <td>NaN</td>\n      <td>NaN</td>\n      <td>NaN</td>\n    </tr>\n    <tr>\n      <th>2</th>\n      <td>2010 (83rd)</td>\n      <td>Actor -- Leading Role</td>\n      <td>Jesse Eisenberg</td>\n      <td>The Social Network {'Mark Zuckerberg'}</td>\n      <td>NO</td>\n      <td>NaN</td>\n      <td>NaN</td>\n      <td>NaN</td>\n      <td>NaN</td>\n      <td>NaN</td>\n      <td>NaN</td>\n    </tr>\n    <tr>\n      <th>3</th>\n      <td>2010 (83rd)</td>\n      <td>Actor -- Leading Role</td>\n      <td>Colin Firth</td>\n      <td>The King's Speech {'King George VI'}</td>\n      <td>YES</td>\n      <td>NaN</td>\n      <td>NaN</td>\n      <td>NaN</td>\n      <td>NaN</td>\n      <td>NaN</td>\n      <td>NaN</td>\n    </tr>\n    <tr>\n      <th>4</th>\n      <td>2010 (83rd)</td>\n      <td>Actor -- Leading Role</td>\n      <td>James Franco</td>\n      <td>127 Hours {'Aron Ralston'}</td>\n      <td>NO</td>\n      <td>NaN</td>\n      <td>NaN</td>\n      <td>NaN</td>\n      <td>NaN</td>\n      <td>NaN</td>\n      <td>NaN</td>\n    </tr>\n  </tbody>\n</table>\n</div>"
     },
     "metadata": {},
     "execution_count": 2
    }
   ],
   "source": [
    "df.head()"
   ]
  },
  {
   "cell_type": "code",
   "execution_count": 3,
   "metadata": {},
   "outputs": [
    {
     "output_type": "execute_result",
     "data": {
      "text/plain": "Writing                                                        888\nMusic (Scoring)                                                748\nCinematography                                                 572\nArt Direction                                                  552\nBest Picture                                                   485\nSound                                                          460\nShort Film (Live Action)                                       434\nScientific and Technical (Technical Achievement Award)         428\nMusic (Song)                                                   413\nActress -- Leading Role                                        411\nDirecting                                                      410\nActor -- Leading Role                                          408\nFilm Editing                                                   385\nCostume Design                                                 384\nActor -- Supporting Role                                       375\nActress -- Supporting Role                                     375\nShort Film (Animated)                                          328\nDocumentary (Short Subject)                                    323\nDocumentary (Feature)                                          292\nForeign Language Film                                          283\nScientific and Technical (Scientific and Engineering Award)    273\nHonorary Award                                                 159\nVisual Effects                                                 117\nSound Editing                                                  104\nSpecial Effects (archaic category)                              92\nMakeup                                                          86\nScientific and Technical (Academy Award of Merit)               45\nIrving G. Thalberg Memorial Award                               44\nAnimated Feature Film                                           37\nAssistant Director (archaic category)                           35\nJean Hersholt Humanitarian Award                                33\nScientific and Technical (Bonner Medal)                         33\nDocumentary (other)                                             25\nDance Direction (archaic category)                              22\nScientific and Technical (Gordon E. Sawyer Award)               22\nSpecial Achievement Award                                       18\nScientific and Technical (Special Awards)                       18\nActing (other)                                                  14\nUnique and Artistic Picture (archaic category)                   3\nEngineering Effects (archaic category)                           3\nName: Category, dtype: int64"
     },
     "metadata": {},
     "execution_count": 3
    }
   ],
   "source": [
    "df['Category'].value_counts() # permet de voir une description des données"
   ]
  },
  {
   "cell_type": "code",
   "execution_count": 4,
   "metadata": {},
   "outputs": [
    {
     "output_type": "execute_result",
     "data": {
      "text/plain": "Meryl Streep                                             16\nTitanic                                                  14\nCleopatra                                                13\nA Star Is Born                                           13\nJack Nicholson                                           12\n                                                         ..\nSyriana                                                   1\nYou Light Up My Life                                      1\nTrees and Jamaica Daddy -- Stephen Bosustow, Producer     1\nOuverture                                                 1\nMarjoe                                                    1\nName: Nominee, Length: 6001, dtype: int64"
     },
     "metadata": {},
     "execution_count": 4
    }
   ],
   "source": [
    "df['Nominee'].value_counts()"
   ]
  },
  {
   "cell_type": "code",
   "execution_count": 5,
   "metadata": {},
   "outputs": [
    {
     "output_type": "execute_result",
     "data": {
      "text/plain": "*                                                                                                               7\n D.B. \"Don\" Keele and Mark E. Engebretson has resulted in the over 20-year dominance of constant-directivity    1\n error-prone measurements on sets. [Digital Imaging Technology]\"                                                1\n resilience                                                                                                     1\n discoverer of stars                                                                                            1\nName: Unnamed: 5, dtype: int64"
     },
     "metadata": {},
     "execution_count": 5
    }
   ],
   "source": [
    "df['Unnamed: 5'].value_counts()"
   ]
  },
  {
   "cell_type": "code",
   "execution_count": 6,
   "metadata": {},
   "outputs": [
    {
     "output_type": "execute_result",
     "data": {
      "text/plain": "(10137, 11)"
     },
     "metadata": {},
     "execution_count": 6
    }
   ],
   "source": [
    "df.shape # nbre lignes et colonnes "
   ]
  },
  {
   "cell_type": "markdown",
   "metadata": {},
   "source": [
    "## Filtrer les données"
   ]
  },
  {
   "cell_type": "code",
   "execution_count": 7,
   "metadata": {},
   "outputs": [
    {
     "output_type": "execute_result",
     "data": {
      "text/plain": "1941 (14th)      192\n1942 (15th)      190\n1943 (16th)      188\n1944 (17th)      181\n1945 (18th)      163\n                ... \n1930/31 (4th)     50\n1931/32 (5th)     47\n1929/30 (3rd)     42\n1927/28 (1st)     39\n1928/29 (2nd)     38\nName: Year, Length: 83, dtype: int64"
     },
     "metadata": {},
     "execution_count": 7
    }
   ],
   "source": [
    "df['Year'].value_counts()"
   ]
  },
  {
   "cell_type": "code",
   "execution_count": 9,
   "metadata": {},
   "outputs": [
    {
     "output_type": "execute_result",
     "data": {
      "text/plain": "dtype('O')"
     },
     "metadata": {},
     "execution_count": 9
    }
   ],
   "source": [
    "df['Year'].dtypes"
   ]
  },
  {
   "cell_type": "code",
   "execution_count": 10,
   "metadata": {},
   "outputs": [],
   "source": [
    "df['Year'] = df['Year'].str[0:4] # permet de récuperer les 4 premiers éléments"
   ]
  },
  {
   "cell_type": "code",
   "execution_count": 11,
   "metadata": {},
   "outputs": [
    {
     "output_type": "execute_result",
     "data": {
      "text/plain": "dtype('O')"
     },
     "metadata": {},
     "execution_count": 11
    }
   ],
   "source": [
    "df['Year'].dtypes"
   ]
  },
  {
   "cell_type": "code",
   "execution_count": 13,
   "metadata": {},
   "outputs": [],
   "source": [
    "df['Year'] = df['Year'].astype('int64')"
   ]
  },
  {
   "cell_type": "code",
   "execution_count": 14,
   "metadata": {},
   "outputs": [
    {
     "output_type": "execute_result",
     "data": {
      "text/plain": "dtype('int64')"
     },
     "metadata": {},
     "execution_count": 14
    }
   ],
   "source": [
    "df['Year'].dtypes"
   ]
  },
  {
   "cell_type": "code",
   "execution_count": 15,
   "metadata": {},
   "outputs": [],
   "source": [
    "later_than2000 = df[df['Year'] > 2000]"
   ]
  },
  {
   "cell_type": "code",
   "execution_count": 16,
   "metadata": {},
   "outputs": [
    {
     "output_type": "execute_result",
     "data": {
      "text/plain": "   Year               Category          Nominee  \\\n0  2010  Actor -- Leading Role    Javier Bardem   \n1  2010  Actor -- Leading Role     Jeff Bridges   \n2  2010  Actor -- Leading Role  Jesse Eisenberg   \n3  2010  Actor -- Leading Role      Colin Firth   \n4  2010  Actor -- Leading Role     James Franco   \n\n                          Additional Info Won? Unnamed: 5 Unnamed: 6  \\\n0                      Biutiful {'Uxbal'}   NO        NaN        NaN   \n1           True Grit {'Rooster Cogburn'}   NO        NaN        NaN   \n2  The Social Network {'Mark Zuckerberg'}   NO        NaN        NaN   \n3    The King's Speech {'King George VI'}  YES        NaN        NaN   \n4              127 Hours {'Aron Ralston'}   NO        NaN        NaN   \n\n  Unnamed: 7 Unnamed: 8 Unnamed: 9 Unnamed: 10  \n0        NaN        NaN        NaN         NaN  \n1        NaN        NaN        NaN         NaN  \n2        NaN        NaN        NaN         NaN  \n3        NaN        NaN        NaN         NaN  \n4        NaN        NaN        NaN         NaN  ",
      "text/html": "<div>\n<style scoped>\n    .dataframe tbody tr th:only-of-type {\n        vertical-align: middle;\n    }\n\n    .dataframe tbody tr th {\n        vertical-align: top;\n    }\n\n    .dataframe thead th {\n        text-align: right;\n    }\n</style>\n<table border=\"1\" class=\"dataframe\">\n  <thead>\n    <tr style=\"text-align: right;\">\n      <th></th>\n      <th>Year</th>\n      <th>Category</th>\n      <th>Nominee</th>\n      <th>Additional Info</th>\n      <th>Won?</th>\n      <th>Unnamed: 5</th>\n      <th>Unnamed: 6</th>\n      <th>Unnamed: 7</th>\n      <th>Unnamed: 8</th>\n      <th>Unnamed: 9</th>\n      <th>Unnamed: 10</th>\n    </tr>\n  </thead>\n  <tbody>\n    <tr>\n      <th>0</th>\n      <td>2010</td>\n      <td>Actor -- Leading Role</td>\n      <td>Javier Bardem</td>\n      <td>Biutiful {'Uxbal'}</td>\n      <td>NO</td>\n      <td>NaN</td>\n      <td>NaN</td>\n      <td>NaN</td>\n      <td>NaN</td>\n      <td>NaN</td>\n      <td>NaN</td>\n    </tr>\n    <tr>\n      <th>1</th>\n      <td>2010</td>\n      <td>Actor -- Leading Role</td>\n      <td>Jeff Bridges</td>\n      <td>True Grit {'Rooster Cogburn'}</td>\n      <td>NO</td>\n      <td>NaN</td>\n      <td>NaN</td>\n      <td>NaN</td>\n      <td>NaN</td>\n      <td>NaN</td>\n      <td>NaN</td>\n    </tr>\n    <tr>\n      <th>2</th>\n      <td>2010</td>\n      <td>Actor -- Leading Role</td>\n      <td>Jesse Eisenberg</td>\n      <td>The Social Network {'Mark Zuckerberg'}</td>\n      <td>NO</td>\n      <td>NaN</td>\n      <td>NaN</td>\n      <td>NaN</td>\n      <td>NaN</td>\n      <td>NaN</td>\n      <td>NaN</td>\n    </tr>\n    <tr>\n      <th>3</th>\n      <td>2010</td>\n      <td>Actor -- Leading Role</td>\n      <td>Colin Firth</td>\n      <td>The King's Speech {'King George VI'}</td>\n      <td>YES</td>\n      <td>NaN</td>\n      <td>NaN</td>\n      <td>NaN</td>\n      <td>NaN</td>\n      <td>NaN</td>\n      <td>NaN</td>\n    </tr>\n    <tr>\n      <th>4</th>\n      <td>2010</td>\n      <td>Actor -- Leading Role</td>\n      <td>James Franco</td>\n      <td>127 Hours {'Aron Ralston'}</td>\n      <td>NO</td>\n      <td>NaN</td>\n      <td>NaN</td>\n      <td>NaN</td>\n      <td>NaN</td>\n      <td>NaN</td>\n      <td>NaN</td>\n    </tr>\n  </tbody>\n</table>\n</div>"
     },
     "metadata": {},
     "execution_count": 16
    }
   ],
   "source": [
    "later_than2000.head()"
   ]
  },
  {
   "cell_type": "code",
   "execution_count": 17,
   "metadata": {},
   "outputs": [
    {
     "output_type": "execute_result",
     "data": {
      "text/plain": "2009    140\n2001    137\n2010    135\n2006    130\n2005    129\n2004    129\n2007    127\n2002    127\n2003    122\n2008    118\nName: Year, dtype: int64"
     },
     "metadata": {},
     "execution_count": 17
    }
   ],
   "source": [
    "later_than2000['Year'].value_counts()"
   ]
  },
  {
   "cell_type": "code",
   "execution_count": 18,
   "metadata": {},
   "outputs": [
    {
     "output_type": "execute_result",
     "data": {
      "text/plain": "(1294, 11)"
     },
     "metadata": {},
     "execution_count": 18
    }
   ],
   "source": [
    "later_than2000.shape"
   ]
  },
  {
   "cell_type": "code",
   "execution_count": 19,
   "metadata": {},
   "outputs": [],
   "source": [
    "# actor -- leading role\n",
    "# actor -- supporting role\n",
    "# actress -- leading role\n",
    "# actress -- supporting role \n",
    "award_categories = ['Actor -- Leading Role', 'Actor -- Supporting Role','Actress -- Leading Role','Actress -- Supporting Role']"
   ]
  },
  {
   "cell_type": "code",
   "execution_count": 20,
   "metadata": {},
   "outputs": [],
   "source": [
    "nominations = later_than2000[later_than2000[\"Category\"].isin(award_categories)]"
   ]
  },
  {
   "cell_type": "code",
   "execution_count": 21,
   "metadata": {},
   "outputs": [
    {
     "output_type": "execute_result",
     "data": {
      "text/plain": "(200, 11)"
     },
     "metadata": {},
     "execution_count": 21
    }
   ],
   "source": [
    "nominations.shape"
   ]
  },
  {
   "cell_type": "code",
   "execution_count": 22,
   "metadata": {},
   "outputs": [
    {
     "output_type": "execute_result",
     "data": {
      "text/plain": "Actor -- Leading Role         50\nActress -- Supporting Role    50\nActress -- Leading Role       50\nActor -- Supporting Role      50\nName: Category, dtype: int64"
     },
     "metadata": {},
     "execution_count": 22
    }
   ],
   "source": [
    "nominations['Category'].value_counts()\n"
   ]
  },
  {
   "cell_type": "markdown",
   "metadata": {},
   "source": [
    "## Nettoyer les colonnes Unnamed et Won"
   ]
  },
  {
   "cell_type": "code",
   "execution_count": 23,
   "metadata": {},
   "outputs": [],
   "source": [
    "replacements = {\"NO\": 0, \"YES\" : 1}"
   ]
  },
  {
   "cell_type": "code",
   "execution_count": 24,
   "metadata": {},
   "outputs": [],
   "source": [
    "nominations[\"Won?\"] = nominations['Won?'].map(replacements)"
   ]
  },
  {
   "cell_type": "code",
   "execution_count": 25,
   "metadata": {},
   "outputs": [
    {
     "output_type": "execute_result",
     "data": {
      "text/plain": "0    160\n1     40\nName: Won?, dtype: int64"
     },
     "metadata": {},
     "execution_count": 25
    }
   ],
   "source": [
    "nominations['Won?'].value_counts()"
   ]
  },
  {
   "cell_type": "code",
   "execution_count": 26,
   "metadata": {},
   "outputs": [],
   "source": [
    "nominations['Won'] = nominations['Won?']"
   ]
  },
  {
   "cell_type": "code",
   "execution_count": 27,
   "metadata": {},
   "outputs": [
    {
     "output_type": "execute_result",
     "data": {
      "text/plain": "   Year               Category          Nominee  \\\n0  2010  Actor -- Leading Role    Javier Bardem   \n1  2010  Actor -- Leading Role     Jeff Bridges   \n2  2010  Actor -- Leading Role  Jesse Eisenberg   \n3  2010  Actor -- Leading Role      Colin Firth   \n4  2010  Actor -- Leading Role     James Franco   \n\n                          Additional Info  Won? Unnamed: 5 Unnamed: 6  \\\n0                      Biutiful {'Uxbal'}     0        NaN        NaN   \n1           True Grit {'Rooster Cogburn'}     0        NaN        NaN   \n2  The Social Network {'Mark Zuckerberg'}     0        NaN        NaN   \n3    The King's Speech {'King George VI'}     1        NaN        NaN   \n4              127 Hours {'Aron Ralston'}     0        NaN        NaN   \n\n  Unnamed: 7 Unnamed: 8 Unnamed: 9 Unnamed: 10  Won  \n0        NaN        NaN        NaN         NaN    0  \n1        NaN        NaN        NaN         NaN    0  \n2        NaN        NaN        NaN         NaN    0  \n3        NaN        NaN        NaN         NaN    1  \n4        NaN        NaN        NaN         NaN    0  ",
      "text/html": "<div>\n<style scoped>\n    .dataframe tbody tr th:only-of-type {\n        vertical-align: middle;\n    }\n\n    .dataframe tbody tr th {\n        vertical-align: top;\n    }\n\n    .dataframe thead th {\n        text-align: right;\n    }\n</style>\n<table border=\"1\" class=\"dataframe\">\n  <thead>\n    <tr style=\"text-align: right;\">\n      <th></th>\n      <th>Year</th>\n      <th>Category</th>\n      <th>Nominee</th>\n      <th>Additional Info</th>\n      <th>Won?</th>\n      <th>Unnamed: 5</th>\n      <th>Unnamed: 6</th>\n      <th>Unnamed: 7</th>\n      <th>Unnamed: 8</th>\n      <th>Unnamed: 9</th>\n      <th>Unnamed: 10</th>\n      <th>Won</th>\n    </tr>\n  </thead>\n  <tbody>\n    <tr>\n      <th>0</th>\n      <td>2010</td>\n      <td>Actor -- Leading Role</td>\n      <td>Javier Bardem</td>\n      <td>Biutiful {'Uxbal'}</td>\n      <td>0</td>\n      <td>NaN</td>\n      <td>NaN</td>\n      <td>NaN</td>\n      <td>NaN</td>\n      <td>NaN</td>\n      <td>NaN</td>\n      <td>0</td>\n    </tr>\n    <tr>\n      <th>1</th>\n      <td>2010</td>\n      <td>Actor -- Leading Role</td>\n      <td>Jeff Bridges</td>\n      <td>True Grit {'Rooster Cogburn'}</td>\n      <td>0</td>\n      <td>NaN</td>\n      <td>NaN</td>\n      <td>NaN</td>\n      <td>NaN</td>\n      <td>NaN</td>\n      <td>NaN</td>\n      <td>0</td>\n    </tr>\n    <tr>\n      <th>2</th>\n      <td>2010</td>\n      <td>Actor -- Leading Role</td>\n      <td>Jesse Eisenberg</td>\n      <td>The Social Network {'Mark Zuckerberg'}</td>\n      <td>0</td>\n      <td>NaN</td>\n      <td>NaN</td>\n      <td>NaN</td>\n      <td>NaN</td>\n      <td>NaN</td>\n      <td>NaN</td>\n      <td>0</td>\n    </tr>\n    <tr>\n      <th>3</th>\n      <td>2010</td>\n      <td>Actor -- Leading Role</td>\n      <td>Colin Firth</td>\n      <td>The King's Speech {'King George VI'}</td>\n      <td>1</td>\n      <td>NaN</td>\n      <td>NaN</td>\n      <td>NaN</td>\n      <td>NaN</td>\n      <td>NaN</td>\n      <td>NaN</td>\n      <td>1</td>\n    </tr>\n    <tr>\n      <th>4</th>\n      <td>2010</td>\n      <td>Actor -- Leading Role</td>\n      <td>James Franco</td>\n      <td>127 Hours {'Aron Ralston'}</td>\n      <td>0</td>\n      <td>NaN</td>\n      <td>NaN</td>\n      <td>NaN</td>\n      <td>NaN</td>\n      <td>NaN</td>\n      <td>NaN</td>\n      <td>0</td>\n    </tr>\n  </tbody>\n</table>\n</div>"
     },
     "metadata": {},
     "execution_count": 27
    }
   ],
   "source": [
    "nominations.head()"
   ]
  },
  {
   "cell_type": "code",
   "execution_count": 28,
   "metadata": {},
   "outputs": [],
   "source": [
    "drop_cols = ['Won?', 'Unnamed: 5','Unnamed: 6','Unnamed: 7','Unnamed: 8','Unnamed: 9','Unnamed: 10']"
   ]
  },
  {
   "cell_type": "code",
   "execution_count": 29,
   "metadata": {},
   "outputs": [],
   "source": [
    "final_nominations = nominations.drop(drop_cols, axis = 1)"
   ]
  },
  {
   "cell_type": "code",
   "execution_count": 30,
   "metadata": {},
   "outputs": [
    {
     "output_type": "execute_result",
     "data": {
      "text/plain": "   Year               Category          Nominee  \\\n0  2010  Actor -- Leading Role    Javier Bardem   \n1  2010  Actor -- Leading Role     Jeff Bridges   \n2  2010  Actor -- Leading Role  Jesse Eisenberg   \n3  2010  Actor -- Leading Role      Colin Firth   \n4  2010  Actor -- Leading Role     James Franco   \n\n                          Additional Info  Won  \n0                      Biutiful {'Uxbal'}    0  \n1           True Grit {'Rooster Cogburn'}    0  \n2  The Social Network {'Mark Zuckerberg'}    0  \n3    The King's Speech {'King George VI'}    1  \n4              127 Hours {'Aron Ralston'}    0  ",
      "text/html": "<div>\n<style scoped>\n    .dataframe tbody tr th:only-of-type {\n        vertical-align: middle;\n    }\n\n    .dataframe tbody tr th {\n        vertical-align: top;\n    }\n\n    .dataframe thead th {\n        text-align: right;\n    }\n</style>\n<table border=\"1\" class=\"dataframe\">\n  <thead>\n    <tr style=\"text-align: right;\">\n      <th></th>\n      <th>Year</th>\n      <th>Category</th>\n      <th>Nominee</th>\n      <th>Additional Info</th>\n      <th>Won</th>\n    </tr>\n  </thead>\n  <tbody>\n    <tr>\n      <th>0</th>\n      <td>2010</td>\n      <td>Actor -- Leading Role</td>\n      <td>Javier Bardem</td>\n      <td>Biutiful {'Uxbal'}</td>\n      <td>0</td>\n    </tr>\n    <tr>\n      <th>1</th>\n      <td>2010</td>\n      <td>Actor -- Leading Role</td>\n      <td>Jeff Bridges</td>\n      <td>True Grit {'Rooster Cogburn'}</td>\n      <td>0</td>\n    </tr>\n    <tr>\n      <th>2</th>\n      <td>2010</td>\n      <td>Actor -- Leading Role</td>\n      <td>Jesse Eisenberg</td>\n      <td>The Social Network {'Mark Zuckerberg'}</td>\n      <td>0</td>\n    </tr>\n    <tr>\n      <th>3</th>\n      <td>2010</td>\n      <td>Actor -- Leading Role</td>\n      <td>Colin Firth</td>\n      <td>The King's Speech {'King George VI'}</td>\n      <td>1</td>\n    </tr>\n    <tr>\n      <th>4</th>\n      <td>2010</td>\n      <td>Actor -- Leading Role</td>\n      <td>James Franco</td>\n      <td>127 Hours {'Aron Ralston'}</td>\n      <td>0</td>\n    </tr>\n  </tbody>\n</table>\n</div>"
     },
     "metadata": {},
     "execution_count": 30
    }
   ],
   "source": [
    "final_nominations.head()"
   ]
  },
  {
   "cell_type": "markdown",
   "metadata": {},
   "source": [
    "## Nettoyage de la colonne Additional Info"
   ]
  },
  {
   "cell_type": "code",
   "execution_count": 31,
   "metadata": {},
   "outputs": [],
   "source": [
    "# Film {'PERSONNAGE'}\n",
    "#Biutiful {'Uxbal'}"
   ]
  },
  {
   "cell_type": "code",
   "execution_count": 32,
   "metadata": {},
   "outputs": [],
   "source": [
    "additional_info_one = final_nominations['Additional Info'].str.rstrip(\"'}\")#coupe à partir de charactere specifié"
   ]
  },
  {
   "cell_type": "code",
   "execution_count": 33,
   "metadata": {},
   "outputs": [
    {
     "output_type": "execute_result",
     "data": {
      "text/plain": "0                        Biutiful {'Uxbal\n1             True Grit {'Rooster Cogburn\n2    The Social Network {'Mark Zuckerberg\n3      The King's Speech {'King George VI\n4                127 Hours {'Aron Ralston\nName: Additional Info, dtype: object"
     },
     "metadata": {},
     "execution_count": 33
    }
   ],
   "source": [
    "additional_info_one.head()"
   ]
  },
  {
   "cell_type": "code",
   "execution_count": 38,
   "metadata": {},
   "outputs": [],
   "source": [
    "additional_info_two = additional_info_one.str.split(\" {'\", expand = True)"
   ]
  },
  {
   "cell_type": "code",
   "execution_count": 42,
   "metadata": {},
   "outputs": [
    {
     "output_type": "execute_result",
     "data": {
      "text/plain": "                    0                1\n0            Biutiful            Uxbal\n1           True Grit  Rooster Cogburn\n2  The Social Network  Mark Zuckerberg\n3   The King's Speech   King George VI\n4           127 Hours     Aron Ralston",
      "text/html": "<div>\n<style scoped>\n    .dataframe tbody tr th:only-of-type {\n        vertical-align: middle;\n    }\n\n    .dataframe tbody tr th {\n        vertical-align: top;\n    }\n\n    .dataframe thead th {\n        text-align: right;\n    }\n</style>\n<table border=\"1\" class=\"dataframe\">\n  <thead>\n    <tr style=\"text-align: right;\">\n      <th></th>\n      <th>0</th>\n      <th>1</th>\n    </tr>\n  </thead>\n  <tbody>\n    <tr>\n      <th>0</th>\n      <td>Biutiful</td>\n      <td>Uxbal</td>\n    </tr>\n    <tr>\n      <th>1</th>\n      <td>True Grit</td>\n      <td>Rooster Cogburn</td>\n    </tr>\n    <tr>\n      <th>2</th>\n      <td>The Social Network</td>\n      <td>Mark Zuckerberg</td>\n    </tr>\n    <tr>\n      <th>3</th>\n      <td>The King's Speech</td>\n      <td>King George VI</td>\n    </tr>\n    <tr>\n      <th>4</th>\n      <td>127 Hours</td>\n      <td>Aron Ralston</td>\n    </tr>\n  </tbody>\n</table>\n</div>"
     },
     "metadata": {},
     "execution_count": 42
    }
   ],
   "source": [
    "additional_info_two.head()"
   ]
  },
  {
   "cell_type": "code",
   "execution_count": 43,
   "metadata": {},
   "outputs": [],
   "source": [
    "movie_name = additional_info_two[0]"
   ]
  },
  {
   "cell_type": "code",
   "execution_count": 44,
   "metadata": {},
   "outputs": [
    {
     "output_type": "execute_result",
     "data": {
      "text/plain": "0              Biutiful\n1             True Grit\n2    The Social Network\n3     The King's Speech\n4             127 Hours\nName: 0, dtype: object"
     },
     "metadata": {},
     "execution_count": 44
    }
   ],
   "source": [
    "movie_name.head()"
   ]
  },
  {
   "cell_type": "code",
   "execution_count": 45,
   "metadata": {},
   "outputs": [],
   "source": [
    "characters = additional_info_two[1]"
   ]
  },
  {
   "cell_type": "code",
   "execution_count": 46,
   "metadata": {},
   "outputs": [
    {
     "output_type": "execute_result",
     "data": {
      "text/plain": "0              Uxbal\n1    Rooster Cogburn\n2    Mark Zuckerberg\n3     King George VI\n4       Aron Ralston\nName: 1, dtype: object"
     },
     "metadata": {},
     "execution_count": 46
    }
   ],
   "source": [
    "characters.head()"
   ]
  },
  {
   "cell_type": "code",
   "execution_count": 47,
   "metadata": {},
   "outputs": [],
   "source": [
    "final_nominations['Movie'] = movie_name\n",
    "final_nominations['Character'] = characters"
   ]
  },
  {
   "cell_type": "code",
   "execution_count": 48,
   "metadata": {},
   "outputs": [
    {
     "output_type": "execute_result",
     "data": {
      "text/plain": "   Year               Category          Nominee  \\\n0  2010  Actor -- Leading Role    Javier Bardem   \n1  2010  Actor -- Leading Role     Jeff Bridges   \n2  2010  Actor -- Leading Role  Jesse Eisenberg   \n3  2010  Actor -- Leading Role      Colin Firth   \n4  2010  Actor -- Leading Role     James Franco   \n\n                          Additional Info  Won               Movie  \\\n0                      Biutiful {'Uxbal'}    0            Biutiful   \n1           True Grit {'Rooster Cogburn'}    0           True Grit   \n2  The Social Network {'Mark Zuckerberg'}    0  The Social Network   \n3    The King's Speech {'King George VI'}    1   The King's Speech   \n4              127 Hours {'Aron Ralston'}    0           127 Hours   \n\n         Character  \n0            Uxbal  \n1  Rooster Cogburn  \n2  Mark Zuckerberg  \n3   King George VI  \n4     Aron Ralston  ",
      "text/html": "<div>\n<style scoped>\n    .dataframe tbody tr th:only-of-type {\n        vertical-align: middle;\n    }\n\n    .dataframe tbody tr th {\n        vertical-align: top;\n    }\n\n    .dataframe thead th {\n        text-align: right;\n    }\n</style>\n<table border=\"1\" class=\"dataframe\">\n  <thead>\n    <tr style=\"text-align: right;\">\n      <th></th>\n      <th>Year</th>\n      <th>Category</th>\n      <th>Nominee</th>\n      <th>Additional Info</th>\n      <th>Won</th>\n      <th>Movie</th>\n      <th>Character</th>\n    </tr>\n  </thead>\n  <tbody>\n    <tr>\n      <th>0</th>\n      <td>2010</td>\n      <td>Actor -- Leading Role</td>\n      <td>Javier Bardem</td>\n      <td>Biutiful {'Uxbal'}</td>\n      <td>0</td>\n      <td>Biutiful</td>\n      <td>Uxbal</td>\n    </tr>\n    <tr>\n      <th>1</th>\n      <td>2010</td>\n      <td>Actor -- Leading Role</td>\n      <td>Jeff Bridges</td>\n      <td>True Grit {'Rooster Cogburn'}</td>\n      <td>0</td>\n      <td>True Grit</td>\n      <td>Rooster Cogburn</td>\n    </tr>\n    <tr>\n      <th>2</th>\n      <td>2010</td>\n      <td>Actor -- Leading Role</td>\n      <td>Jesse Eisenberg</td>\n      <td>The Social Network {'Mark Zuckerberg'}</td>\n      <td>0</td>\n      <td>The Social Network</td>\n      <td>Mark Zuckerberg</td>\n    </tr>\n    <tr>\n      <th>3</th>\n      <td>2010</td>\n      <td>Actor -- Leading Role</td>\n      <td>Colin Firth</td>\n      <td>The King's Speech {'King George VI'}</td>\n      <td>1</td>\n      <td>The King's Speech</td>\n      <td>King George VI</td>\n    </tr>\n    <tr>\n      <th>4</th>\n      <td>2010</td>\n      <td>Actor -- Leading Role</td>\n      <td>James Franco</td>\n      <td>127 Hours {'Aron Ralston'}</td>\n      <td>0</td>\n      <td>127 Hours</td>\n      <td>Aron Ralston</td>\n    </tr>\n  </tbody>\n</table>\n</div>"
     },
     "metadata": {},
     "execution_count": 48
    }
   ],
   "source": [
    "final_nominations.head()"
   ]
  },
  {
   "cell_type": "code",
   "execution_count": 53,
   "metadata": {},
   "outputs": [
    {
     "output_type": "error",
     "ename": "KeyError",
     "evalue": "\"['Additional Info'] not found in axis\"",
     "traceback": [
      "\u001b[1;31m---------------------------------------------------------------------------\u001b[0m",
      "\u001b[1;31mKeyError\u001b[0m                                  Traceback (most recent call last)",
      "\u001b[1;32m<ipython-input-53-fd9b9dc327b3>\u001b[0m in \u001b[0;36m<module>\u001b[1;34m\u001b[0m\n\u001b[1;32m----> 1\u001b[1;33m \u001b[0mfinal_nominations\u001b[0m\u001b[1;33m.\u001b[0m\u001b[0mdrop\u001b[0m\u001b[1;33m(\u001b[0m\u001b[1;33m[\u001b[0m\u001b[1;34m'Additional Info'\u001b[0m\u001b[1;33m]\u001b[0m\u001b[1;33m,\u001b[0m \u001b[0maxis\u001b[0m \u001b[1;33m=\u001b[0m \u001b[1;36m1\u001b[0m\u001b[1;33m)\u001b[0m\u001b[1;33m\u001b[0m\u001b[1;33m\u001b[0m\u001b[0m\n\u001b[0m",
      "\u001b[1;32m~\\AppData\\Local\\Programs\\Python\\Python38\\lib\\site-packages\\pandas\\core\\frame.py\u001b[0m in \u001b[0;36mdrop\u001b[1;34m(self, labels, axis, index, columns, level, inplace, errors)\u001b[0m\n\u001b[0;32m   4155\u001b[0m                 \u001b[0mweight\u001b[0m  \u001b[1;36m1.0\u001b[0m     \u001b[1;36m0.8\u001b[0m\u001b[1;33m\u001b[0m\u001b[1;33m\u001b[0m\u001b[0m\n\u001b[0;32m   4156\u001b[0m         \"\"\"\n\u001b[1;32m-> 4157\u001b[1;33m         return super().drop(\n\u001b[0m\u001b[0;32m   4158\u001b[0m             \u001b[0mlabels\u001b[0m\u001b[1;33m=\u001b[0m\u001b[0mlabels\u001b[0m\u001b[1;33m,\u001b[0m\u001b[1;33m\u001b[0m\u001b[1;33m\u001b[0m\u001b[0m\n\u001b[0;32m   4159\u001b[0m             \u001b[0maxis\u001b[0m\u001b[1;33m=\u001b[0m\u001b[0maxis\u001b[0m\u001b[1;33m,\u001b[0m\u001b[1;33m\u001b[0m\u001b[1;33m\u001b[0m\u001b[0m\n",
      "\u001b[1;32m~\\AppData\\Local\\Programs\\Python\\Python38\\lib\\site-packages\\pandas\\core\\generic.py\u001b[0m in \u001b[0;36mdrop\u001b[1;34m(self, labels, axis, index, columns, level, inplace, errors)\u001b[0m\n\u001b[0;32m   3876\u001b[0m         \u001b[1;32mfor\u001b[0m \u001b[0maxis\u001b[0m\u001b[1;33m,\u001b[0m \u001b[0mlabels\u001b[0m \u001b[1;32min\u001b[0m \u001b[0maxes\u001b[0m\u001b[1;33m.\u001b[0m\u001b[0mitems\u001b[0m\u001b[1;33m(\u001b[0m\u001b[1;33m)\u001b[0m\u001b[1;33m:\u001b[0m\u001b[1;33m\u001b[0m\u001b[1;33m\u001b[0m\u001b[0m\n\u001b[0;32m   3877\u001b[0m             \u001b[1;32mif\u001b[0m \u001b[0mlabels\u001b[0m \u001b[1;32mis\u001b[0m \u001b[1;32mnot\u001b[0m \u001b[1;32mNone\u001b[0m\u001b[1;33m:\u001b[0m\u001b[1;33m\u001b[0m\u001b[1;33m\u001b[0m\u001b[0m\n\u001b[1;32m-> 3878\u001b[1;33m                 \u001b[0mobj\u001b[0m \u001b[1;33m=\u001b[0m \u001b[0mobj\u001b[0m\u001b[1;33m.\u001b[0m\u001b[0m_drop_axis\u001b[0m\u001b[1;33m(\u001b[0m\u001b[0mlabels\u001b[0m\u001b[1;33m,\u001b[0m \u001b[0maxis\u001b[0m\u001b[1;33m,\u001b[0m \u001b[0mlevel\u001b[0m\u001b[1;33m=\u001b[0m\u001b[0mlevel\u001b[0m\u001b[1;33m,\u001b[0m \u001b[0merrors\u001b[0m\u001b[1;33m=\u001b[0m\u001b[0merrors\u001b[0m\u001b[1;33m)\u001b[0m\u001b[1;33m\u001b[0m\u001b[1;33m\u001b[0m\u001b[0m\n\u001b[0m\u001b[0;32m   3879\u001b[0m \u001b[1;33m\u001b[0m\u001b[0m\n\u001b[0;32m   3880\u001b[0m         \u001b[1;32mif\u001b[0m \u001b[0minplace\u001b[0m\u001b[1;33m:\u001b[0m\u001b[1;33m\u001b[0m\u001b[1;33m\u001b[0m\u001b[0m\n",
      "\u001b[1;32m~\\AppData\\Local\\Programs\\Python\\Python38\\lib\\site-packages\\pandas\\core\\generic.py\u001b[0m in \u001b[0;36m_drop_axis\u001b[1;34m(self, labels, axis, level, errors)\u001b[0m\n\u001b[0;32m   3910\u001b[0m                 \u001b[0mnew_axis\u001b[0m \u001b[1;33m=\u001b[0m \u001b[0maxis\u001b[0m\u001b[1;33m.\u001b[0m\u001b[0mdrop\u001b[0m\u001b[1;33m(\u001b[0m\u001b[0mlabels\u001b[0m\u001b[1;33m,\u001b[0m \u001b[0mlevel\u001b[0m\u001b[1;33m=\u001b[0m\u001b[0mlevel\u001b[0m\u001b[1;33m,\u001b[0m \u001b[0merrors\u001b[0m\u001b[1;33m=\u001b[0m\u001b[0merrors\u001b[0m\u001b[1;33m)\u001b[0m\u001b[1;33m\u001b[0m\u001b[1;33m\u001b[0m\u001b[0m\n\u001b[0;32m   3911\u001b[0m             \u001b[1;32melse\u001b[0m\u001b[1;33m:\u001b[0m\u001b[1;33m\u001b[0m\u001b[1;33m\u001b[0m\u001b[0m\n\u001b[1;32m-> 3912\u001b[1;33m                 \u001b[0mnew_axis\u001b[0m \u001b[1;33m=\u001b[0m \u001b[0maxis\u001b[0m\u001b[1;33m.\u001b[0m\u001b[0mdrop\u001b[0m\u001b[1;33m(\u001b[0m\u001b[0mlabels\u001b[0m\u001b[1;33m,\u001b[0m \u001b[0merrors\u001b[0m\u001b[1;33m=\u001b[0m\u001b[0merrors\u001b[0m\u001b[1;33m)\u001b[0m\u001b[1;33m\u001b[0m\u001b[1;33m\u001b[0m\u001b[0m\n\u001b[0m\u001b[0;32m   3913\u001b[0m             \u001b[0mresult\u001b[0m \u001b[1;33m=\u001b[0m \u001b[0mself\u001b[0m\u001b[1;33m.\u001b[0m\u001b[0mreindex\u001b[0m\u001b[1;33m(\u001b[0m\u001b[1;33m**\u001b[0m\u001b[1;33m{\u001b[0m\u001b[0maxis_name\u001b[0m\u001b[1;33m:\u001b[0m \u001b[0mnew_axis\u001b[0m\u001b[1;33m}\u001b[0m\u001b[1;33m)\u001b[0m\u001b[1;33m\u001b[0m\u001b[1;33m\u001b[0m\u001b[0m\n\u001b[0;32m   3914\u001b[0m \u001b[1;33m\u001b[0m\u001b[0m\n",
      "\u001b[1;32m~\\AppData\\Local\\Programs\\Python\\Python38\\lib\\site-packages\\pandas\\core\\indexes\\base.py\u001b[0m in \u001b[0;36mdrop\u001b[1;34m(self, labels, errors)\u001b[0m\n\u001b[0;32m   5274\u001b[0m         \u001b[1;32mif\u001b[0m \u001b[0mmask\u001b[0m\u001b[1;33m.\u001b[0m\u001b[0many\u001b[0m\u001b[1;33m(\u001b[0m\u001b[1;33m)\u001b[0m\u001b[1;33m:\u001b[0m\u001b[1;33m\u001b[0m\u001b[1;33m\u001b[0m\u001b[0m\n\u001b[0;32m   5275\u001b[0m             \u001b[1;32mif\u001b[0m \u001b[0merrors\u001b[0m \u001b[1;33m!=\u001b[0m \u001b[1;34m\"ignore\"\u001b[0m\u001b[1;33m:\u001b[0m\u001b[1;33m\u001b[0m\u001b[1;33m\u001b[0m\u001b[0m\n\u001b[1;32m-> 5276\u001b[1;33m                 \u001b[1;32mraise\u001b[0m \u001b[0mKeyError\u001b[0m\u001b[1;33m(\u001b[0m\u001b[1;34mf\"{labels[mask]} not found in axis\"\u001b[0m\u001b[1;33m)\u001b[0m\u001b[1;33m\u001b[0m\u001b[1;33m\u001b[0m\u001b[0m\n\u001b[0m\u001b[0;32m   5277\u001b[0m             \u001b[0mindexer\u001b[0m \u001b[1;33m=\u001b[0m \u001b[0mindexer\u001b[0m\u001b[1;33m[\u001b[0m\u001b[1;33m~\u001b[0m\u001b[0mmask\u001b[0m\u001b[1;33m]\u001b[0m\u001b[1;33m\u001b[0m\u001b[1;33m\u001b[0m\u001b[0m\n\u001b[0;32m   5278\u001b[0m         \u001b[1;32mreturn\u001b[0m \u001b[0mself\u001b[0m\u001b[1;33m.\u001b[0m\u001b[0mdelete\u001b[0m\u001b[1;33m(\u001b[0m\u001b[0mindexer\u001b[0m\u001b[1;33m)\u001b[0m\u001b[1;33m\u001b[0m\u001b[1;33m\u001b[0m\u001b[0m\n",
      "\u001b[1;31mKeyError\u001b[0m: \"['Additional Info'] not found in axis\""
     ]
    }
   ],
   "source": [
    "final_nominations.drop(['Additional Info'], axis = 1)"
   ]
  },
  {
   "cell_type": "code",
   "execution_count": 50,
   "metadata": {},
   "outputs": [
    {
     "output_type": "execute_result",
     "data": {
      "text/plain": "   Year               Category          Nominee  \\\n0  2010  Actor -- Leading Role    Javier Bardem   \n1  2010  Actor -- Leading Role     Jeff Bridges   \n2  2010  Actor -- Leading Role  Jesse Eisenberg   \n3  2010  Actor -- Leading Role      Colin Firth   \n4  2010  Actor -- Leading Role     James Franco   \n\n                          Additional Info  Won               Movie  \\\n0                      Biutiful {'Uxbal'}    0            Biutiful   \n1           True Grit {'Rooster Cogburn'}    0           True Grit   \n2  The Social Network {'Mark Zuckerberg'}    0  The Social Network   \n3    The King's Speech {'King George VI'}    1   The King's Speech   \n4              127 Hours {'Aron Ralston'}    0           127 Hours   \n\n         Character  \n0            Uxbal  \n1  Rooster Cogburn  \n2  Mark Zuckerberg  \n3   King George VI  \n4     Aron Ralston  ",
      "text/html": "<div>\n<style scoped>\n    .dataframe tbody tr th:only-of-type {\n        vertical-align: middle;\n    }\n\n    .dataframe tbody tr th {\n        vertical-align: top;\n    }\n\n    .dataframe thead th {\n        text-align: right;\n    }\n</style>\n<table border=\"1\" class=\"dataframe\">\n  <thead>\n    <tr style=\"text-align: right;\">\n      <th></th>\n      <th>Year</th>\n      <th>Category</th>\n      <th>Nominee</th>\n      <th>Additional Info</th>\n      <th>Won</th>\n      <th>Movie</th>\n      <th>Character</th>\n    </tr>\n  </thead>\n  <tbody>\n    <tr>\n      <th>0</th>\n      <td>2010</td>\n      <td>Actor -- Leading Role</td>\n      <td>Javier Bardem</td>\n      <td>Biutiful {'Uxbal'}</td>\n      <td>0</td>\n      <td>Biutiful</td>\n      <td>Uxbal</td>\n    </tr>\n    <tr>\n      <th>1</th>\n      <td>2010</td>\n      <td>Actor -- Leading Role</td>\n      <td>Jeff Bridges</td>\n      <td>True Grit {'Rooster Cogburn'}</td>\n      <td>0</td>\n      <td>True Grit</td>\n      <td>Rooster Cogburn</td>\n    </tr>\n    <tr>\n      <th>2</th>\n      <td>2010</td>\n      <td>Actor -- Leading Role</td>\n      <td>Jesse Eisenberg</td>\n      <td>The Social Network {'Mark Zuckerberg'}</td>\n      <td>0</td>\n      <td>The Social Network</td>\n      <td>Mark Zuckerberg</td>\n    </tr>\n    <tr>\n      <th>3</th>\n      <td>2010</td>\n      <td>Actor -- Leading Role</td>\n      <td>Colin Firth</td>\n      <td>The King's Speech {'King George VI'}</td>\n      <td>1</td>\n      <td>The King's Speech</td>\n      <td>King George VI</td>\n    </tr>\n    <tr>\n      <th>4</th>\n      <td>2010</td>\n      <td>Actor -- Leading Role</td>\n      <td>James Franco</td>\n      <td>127 Hours {'Aron Ralston'}</td>\n      <td>0</td>\n      <td>127 Hours</td>\n      <td>Aron Ralston</td>\n    </tr>\n  </tbody>\n</table>\n</div>"
     },
     "metadata": {},
     "execution_count": 50
    }
   ],
   "source": [
    "final_nominations.head()"
   ]
  },
  {
   "cell_type": "code",
   "execution_count": 54,
   "metadata": {},
   "outputs": [
    {
     "output_type": "execute_result",
     "data": {
      "text/plain": "(200, 6)"
     },
     "metadata": {},
     "execution_count": 54
    }
   ],
   "source": [
    "final_nominations.shape"
   ]
  },
  {
   "cell_type": "markdown",
   "metadata": {},
   "source": [
    "## Explorer avec SQLite"
   ]
  },
  {
   "cell_type": "code",
   "execution_count": 55,
   "metadata": {},
   "outputs": [
    {
     "output_type": "execute_result",
     "data": {
      "text/plain": "Year          int64\nCategory     object\nNominee      object\nWon           int64\nMovie        object\nCharacter    object\ndtype: object"
     },
     "metadata": {},
     "execution_count": 55
    }
   ],
   "source": [
    "# to_sql(name, connexion)\n",
    "final_nominations.dtypes"
   ]
  },
  {
   "cell_type": "code",
   "execution_count": 56,
   "metadata": {},
   "outputs": [],
   "source": [
    "connexion = sqlite3.connect('nominations.db')# creation de la base de données si elle n'existe pas "
   ]
  },
  {
   "cell_type": "code",
   "execution_count": 57,
   "metadata": {},
   "outputs": [],
   "source": [
    "final_nominations.to_sql('nominations', connexion,if_exists = 'append', index = False ) # l'option append permet d'ajouter des données déjà ajoutées"
   ]
  },
  {
   "cell_type": "code",
   "execution_count": 58,
   "metadata": {
    "tags": []
   },
   "outputs": [],
   "source": [
    "final_nominations.to_sql('nominations', connexion,if_exists = 'replace', index = False ) # l'option replace permet de remplacer les donnée déjà existante "
   ]
  }
 ]
}