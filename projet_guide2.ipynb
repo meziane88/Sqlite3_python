{
 "metadata": {
  "language_info": {
   "codemirror_mode": {
    "name": "ipython",
    "version": 3
   },
   "file_extension": ".py",
   "mimetype": "text/x-python",
   "name": "python",
   "nbconvert_exporter": "python",
   "pygments_lexer": "ipython3",
   "version": "3.8.5-final"
  },
  "orig_nbformat": 2,
  "kernelspec": {
   "name": "python_defaultSpec_1599726028611",
   "display_name": "Python 3.8.5 64-bit"
  }
 },
 "nbformat": 4,
 "nbformat_minor": 2,
 "cells": [
  {
   "cell_type": "code",
   "execution_count": 1,
   "metadata": {},
   "outputs": [],
   "source": [
    "import sqlite3"
   ]
  },
  {
   "cell_type": "code",
   "execution_count": 2,
   "metadata": {},
   "outputs": [],
   "source": [
    "connexion = sqlite3.connect('nominations.db')"
   ]
  },
  {
   "cell_type": "code",
   "execution_count": 3,
   "metadata": {},
   "outputs": [
    {
     "output_type": "execute_result",
     "data": {
      "text/plain": "[(0, 'Year', 'INTEGER', 0, None, 0),\n (1, 'Category', 'TEXT', 0, None, 0),\n (2, 'Nominee', 'TEXT', 0, None, 0),\n (3, 'Won', 'INTEGER', 0, None, 0),\n (4, 'Movie', 'TEXT', 0, None, 0),\n (5, 'Character', 'TEXT', 0, None, 0)]"
     },
     "metadata": {},
     "execution_count": 3
    }
   ],
   "source": [
    "connexion.execute('PRAGMA TABLE_INFO(nominations)').fetchall()"
   ]
  },
  {
   "cell_type": "code",
   "execution_count": 4,
   "metadata": {
    "tags": []
   },
   "outputs": [
    {
     "output_type": "stream",
     "name": "stdout",
     "text": "(2010, 'Actor -- Leading Role', 'Javier Bardem', 0, 'Biutiful', 'Uxbal')\n(2010, 'Actor -- Leading Role', 'Jeff Bridges', 0, 'True Grit', 'Rooster Cogburn')\n(2010, 'Actor -- Leading Role', 'Jesse Eisenberg', 0, 'The Social Network', 'Mark Zuckerberg')\n(2010, 'Actor -- Leading Role', 'Colin Firth', 1, \"The King's Speech\", 'King George VI')\n(2010, 'Actor -- Leading Role', 'James Franco', 0, '127 Hours', 'Aron Ralston')\n(2010, 'Actor -- Supporting Role', 'Christian Bale', 1, 'The Fighter', 'Dicky Eklund')\n(2010, 'Actor -- Supporting Role', 'John Hawkes', 0, \"Winter's Bone\", 'Teardrop')\n(2010, 'Actor -- Supporting Role', 'Jeremy Renner', 0, 'The Town', 'James Coughlin')\n(2010, 'Actor -- Supporting Role', 'Mark Ruffalo', 0, 'The Kids Are All Right', 'Paul')\n(2010, 'Actor -- Supporting Role', 'Geoffrey Rush', 0, \"The King's Speech\", 'Lionel Logue')\n"
    }
   ],
   "source": [
    "for row in connexion.execute('select * from nominations limit 10;').fetchall():\n",
    "    print(row)"
   ]
  },
  {
   "cell_type": "markdown",
   "metadata": {},
   "source": [
    "## Création de la table ceremonies"
   ]
  },
  {
   "cell_type": "code",
   "execution_count": null,
   "metadata": {},
   "outputs": [],
   "source": [
    "# executemany(query, list)\n",
    "(2010, 'Steve Martin'),\n",
    "(2009, 'Hugh Jackman'),\n",
    "(2008, 'Jon Stewart'),\n",
    "(2007, 'Ellen DeGeneres'),\n",
    "(2006, 'Jon Stewart'),\n",
    "(2005, 'Chris Rock'),\n",
    "(2004, 'Billy Crystal'),\n",
    "(2003, 'Steve Martin'),\n",
    "(2002, 'Whoopi Goldberg'),\n",
    "(2001, 'Steve Martin'),\n",
    "(2000, 'Billy Crystal')\n"
   ]
  },
  {
   "cell_type": "code",
   "execution_count": 7,
   "metadata": {},
   "outputs": [
    {
     "output_type": "execute_result",
     "data": {
      "text/plain": "[]"
     },
     "metadata": {},
     "execution_count": 7
    }
   ],
   "source": [
    "connexion.execute(\"create table ceremonies(id integer primary key, Year integer, Host text);\").fetchall()"
   ]
  },
  {
   "cell_type": "code",
   "execution_count": 8,
   "metadata": {},
   "outputs": [
    {
     "output_type": "execute_result",
     "data": {
      "text/plain": "[('nominations',), ('ceremonies',)]"
     },
     "metadata": {},
     "execution_count": 8
    }
   ],
   "source": [
    "connexion.execute(\"select name from sqlite_master where type = 'table'\").fetchall()"
   ]
  },
  {
   "cell_type": "code",
   "execution_count": 9,
   "metadata": {},
   "outputs": [
    {
     "output_type": "execute_result",
     "data": {
      "text/plain": "[(0, 'id', 'integer', 0, None, 1),\n (1, 'Year', 'integer', 0, None, 0),\n (2, 'Host', 'text', 0, None, 0)]"
     },
     "metadata": {},
     "execution_count": 9
    }
   ],
   "source": [
    "connexion.execute(\"pragma table_info(ceremonies)\").fetchall()"
   ]
  },
  {
   "cell_type": "code",
   "execution_count": 12,
   "metadata": {},
   "outputs": [],
   "source": [
    "year_hosts = [\n",
    "(2010, 'Steve Martin'),\n",
    "(2009, 'Hugh Jackman'),\n",
    "(2008, 'Jon Stewart'),\n",
    "(2007, 'Ellen DeGeneres'),\n",
    "(2006, 'Jon Stewart'),\n",
    "(2005, 'Chris Rock'),\n",
    "(2004, 'Billy Crystal'),\n",
    "(2003, 'Steve Martin'),\n",
    "(2002, 'Whoopi Goldberg'),\n",
    "(2001, 'Steve Martin'),\n",
    "(2000, 'Billy Crystal')]"
   ]
  },
  {
   "cell_type": "code",
   "execution_count": 13,
   "metadata": {},
   "outputs": [],
   "source": [
    "insert_query = 'insert into ceremonies(Year, Host) values(?,?);'"
   ]
  },
  {
   "cell_type": "code",
   "execution_count": 14,
   "metadata": {},
   "outputs": [
    {
     "output_type": "execute_result",
     "data": {
      "text/plain": "[]"
     },
     "metadata": {},
     "execution_count": 14
    }
   ],
   "source": [
    "connexion.executemany(insert_query, year_hosts).fetchall()"
   ]
  },
  {
   "cell_type": "code",
   "execution_count": 15,
   "metadata": {},
   "outputs": [],
   "source": [
    "connexion.commit()"
   ]
  },
  {
   "cell_type": "code",
   "execution_count": 16,
   "metadata": {},
   "outputs": [
    {
     "output_type": "execute_result",
     "data": {
      "text/plain": "[(1, 2010, 'Steve Martin'),\n (2, 2009, 'Hugh Jackman'),\n (3, 2008, 'Jon Stewart'),\n (4, 2007, 'Ellen DeGeneres'),\n (5, 2006, 'Jon Stewart'),\n (6, 2005, 'Chris Rock'),\n (7, 2004, 'Billy Crystal'),\n (8, 2003, 'Steve Martin'),\n (9, 2002, 'Whoopi Goldberg'),\n (10, 2001, 'Steve Martin')]"
     },
     "metadata": {},
     "execution_count": 16
    }
   ],
   "source": [
    "connexion.execute(\"select * from ceremonies limit 10;\").fetchall()"
   ]
  },
  {
   "cell_type": "markdown",
   "metadata": {},
   "source": [
    "## contrainte de clé externe"
   ]
  },
  {
   "cell_type": "code",
   "execution_count": 17,
   "metadata": {},
   "outputs": [
    {
     "output_type": "execute_result",
     "data": {
      "text/plain": "[]"
     },
     "metadata": {},
     "execution_count": 17
    }
   ],
   "source": [
    "connexion.execute('pragma foreign_key = on;').fetchall()"
   ]
  },
  {
   "cell_type": "markdown",
   "metadata": {},
   "source": [
    "## Relation one_to_many avec la table nominations"
   ]
  },
  {
   "cell_type": "code",
   "execution_count": 18,
   "metadata": {},
   "outputs": [
    {
     "output_type": "execute_result",
     "data": {
      "text/plain": "[]"
     },
     "metadata": {},
     "execution_count": 18
    }
   ],
   "source": [
    "connexion.execute('create table nominations_two(id integer primary key, category text, nominee text, movie text, character text, won integer, ceremony_id integer references ceremonies(id));').fetchall()"
   ]
  },
  {
   "cell_type": "code",
   "execution_count": 19,
   "metadata": {},
   "outputs": [
    {
     "output_type": "execute_result",
     "data": {
      "text/plain": "[(0, 'id', 'integer', 0, None, 1),\n (1, 'category', 'text', 0, None, 0),\n (2, 'nominee', 'text', 0, None, 0),\n (3, 'movie', 'text', 0, None, 0),\n (4, 'character', 'text', 0, None, 0),\n (5, 'won', 'integer', 0, None, 0),\n (6, 'ceremony_id', 'integer', 0, None, 0)]"
     },
     "metadata": {},
     "execution_count": 19
    }
   ],
   "source": [
    "connexion.execute('pragma table_info(nominations_two);').fetchall()"
   ]
  },
  {
   "cell_type": "code",
   "execution_count": 20,
   "metadata": {},
   "outputs": [],
   "source": [
    "nominations_join_query = 'SELECT nominations.category, nominations.nominee, nominations.movie,nominations.character, nominations.won, ceremonies.id FROM nominations INNER JOIN ceremonies ON nominations.year == ceremonies.year;'"
   ]
  },
  {
   "cell_type": "code",
   "execution_count": 21,
   "metadata": {},
   "outputs": [],
   "source": [
    "nominations_join = connexion.execute(nominations_join_query).fetchall()"
   ]
  },
  {
   "cell_type": "code",
   "execution_count": 22,
   "metadata": {},
   "outputs": [],
   "source": [
    "insert_nominations_two = 'insert into nominations_two values (null, ?,?,?,?,?,?);'"
   ]
  },
  {
   "cell_type": "code",
   "execution_count": 23,
   "metadata": {},
   "outputs": [],
   "source": [
    "connexion.executemany(insert_nominations_two, nominations_join).fetchall()\n",
    "connexion.commit()"
   ]
  },
  {
   "cell_type": "code",
   "execution_count": 24,
   "metadata": {},
   "outputs": [
    {
     "output_type": "execute_result",
     "data": {
      "text/plain": "[]"
     },
     "metadata": {},
     "execution_count": 24
    }
   ],
   "source": [
    "connexion.execute('DROP TABLE nominations;').fetchall()"
   ]
  },
  {
   "cell_type": "code",
   "execution_count": 25,
   "metadata": {},
   "outputs": [
    {
     "output_type": "execute_result",
     "data": {
      "text/plain": "[]"
     },
     "metadata": {},
     "execution_count": 25
    }
   ],
   "source": [
    "connexion.execute('ALTER TABLE nominations_two RENAME TO nominations;').fetchall()"
   ]
  },
  {
   "cell_type": "code",
   "execution_count": 26,
   "metadata": {},
   "outputs": [
    {
     "output_type": "execute_result",
     "data": {
      "text/plain": "[(0, 'id', 'integer', 0, None, 1),\n (1, 'category', 'text', 0, None, 0),\n (2, 'nominee', 'text', 0, None, 0),\n (3, 'movie', 'text', 0, None, 0),\n (4, 'character', 'text', 0, None, 0),\n (5, 'won', 'integer', 0, None, 0),\n (6, 'ceremony_id', 'integer', 0, None, 0)]"
     },
     "metadata": {},
     "execution_count": 26
    }
   ],
   "source": [
    "connexion.execute('pragma table_info(nominations)').fetchall()"
   ]
  },
  {
   "cell_type": "code",
   "execution_count": 28,
   "metadata": {},
   "outputs": [
    {
     "output_type": "execute_result",
     "data": {
      "text/plain": "[(1, 'Actor -- Leading Role', 'Javier Bardem', 'Biutiful', 'Uxbal', 0, 1),\n (2,\n  'Actor -- Leading Role',\n  'Jeff Bridges',\n  'True Grit',\n  'Rooster Cogburn',\n  0,\n  1),\n (3,\n  'Actor -- Leading Role',\n  'Jesse Eisenberg',\n  'The Social Network',\n  'Mark Zuckerberg',\n  0,\n  1),\n (4,\n  'Actor -- Leading Role',\n  'Colin Firth',\n  \"The King's Speech\",\n  'King George VI',\n  1,\n  1),\n (5,\n  'Actor -- Leading Role',\n  'James Franco',\n  '127 Hours',\n  'Aron Ralston',\n  0,\n  1),\n (6,\n  'Actor -- Supporting Role',\n  'Christian Bale',\n  'The Fighter',\n  'Dicky Eklund',\n  1,\n  1),\n (7,\n  'Actor -- Supporting Role',\n  'John Hawkes',\n  \"Winter's Bone\",\n  'Teardrop',\n  0,\n  1),\n (8,\n  'Actor -- Supporting Role',\n  'Jeremy Renner',\n  'The Town',\n  'James Coughlin',\n  0,\n  1),\n (9,\n  'Actor -- Supporting Role',\n  'Mark Ruffalo',\n  'The Kids Are All Right',\n  'Paul',\n  0,\n  1),\n (10,\n  'Actor -- Supporting Role',\n  'Geoffrey Rush',\n  \"The King's Speech\",\n  'Lionel Logue',\n  0,\n  1)]"
     },
     "metadata": {},
     "execution_count": 28
    }
   ],
   "source": [
    "connexion.execute('select * from nominations limit 10;').fetchall()"
   ]
  },
  {
   "cell_type": "code",
   "execution_count": 29,
   "metadata": {},
   "outputs": [],
   "source": [
    "connexion.commit()"
   ]
  },
  {
   "cell_type": "markdown",
   "metadata": {},
   "source": [
    "## Création d'une Join Table"
   ]
  },
  {
   "cell_type": "code",
   "execution_count": 34,
   "metadata": {},
   "outputs": [],
   "source": [
    "movies = 'create table movies (id integer primary key, movie text);'\n",
    "actors = 'create table actors (id integer primary key, actor text);'\n",
    "movies_actors = 'CREATE TABLE movies_actors (id INTEGER PRIMARY KEY, movie_id INTEGER REFERENCES movies(id), actor_id INTEGER REFERENCES actors(id));'"
   ]
  },
  {
   "cell_type": "code",
   "execution_count": 38,
   "metadata": {},
   "outputs": [
    {
     "output_type": "execute_result",
     "data": {
      "text/plain": "<sqlite3.Cursor at 0x2558cdf0a40>"
     },
     "metadata": {},
     "execution_count": 38
    }
   ],
   "source": [
    "#connexion.execute(movies)\n",
    "#connexion.execute(actors)\n",
    "connexion.execute(movies_actors)\n"
   ]
  },
  {
   "cell_type": "code",
   "execution_count": 41,
   "metadata": {},
   "outputs": [
    {
     "output_type": "execute_result",
     "data": {
      "text/plain": "[('ceremonies',),\n ('nominations',),\n ('movies',),\n ('actors',),\n ('movies_actors',)]"
     },
     "metadata": {},
     "execution_count": 41
    }
   ],
   "source": [
    "connexion.execute('select name from sqlite_master where type = \"table\";').fetchall()"
   ]
  },
  {
   "cell_type": "code",
   "execution_count": 42,
   "metadata": {},
   "outputs": [
    {
     "output_type": "execute_result",
     "data": {
      "text/plain": "[(0, 0, 'actors', 'actor_id', 'id', 'NO ACTION', 'NO ACTION', 'NONE'),\n (1, 0, 'movies', 'movie_id', 'id', 'NO ACTION', 'NO ACTION', 'NONE')]"
     },
     "metadata": {},
     "execution_count": 42
    }
   ],
   "source": [
    "connexion.execute('pragma foreign_key_list(movies_actors);').fetchall()"
   ]
  },
  {
   "cell_type": "code",
   "execution_count": null,
   "metadata": {},
   "outputs": [],
   "source": []
  }
 ]
}