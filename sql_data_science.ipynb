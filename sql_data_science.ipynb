{
 "metadata": {
  "language_info": {
   "codemirror_mode": {
    "name": "ipython",
    "version": 3
   },
   "file_extension": ".py",
   "mimetype": "text/x-python",
   "name": "python",
   "nbconvert_exporter": "python",
   "pygments_lexer": "ipython3",
   "version": "3.8.5-final"
  },
  "orig_nbformat": 2,
  "kernelspec": {
   "name": "python_defaultSpec_1599657171007",
   "display_name": "Python 3.8.5 64-bit"
  }
 },
 "nbformat": 4,
 "nbformat_minor": 2,
 "cells": [
  {
   "cell_type": "markdown",
   "metadata": {},
   "source": [
    "# Connexion à une base de données"
   ]
  },
  {
   "cell_type": "code",
   "execution_count": 1,
   "metadata": {},
   "outputs": [],
   "source": [
    "import sqlite3"
   ]
  },
  {
   "cell_type": "code",
   "execution_count": 3,
   "metadata": {},
   "outputs": [],
   "source": [
    "# connect()\n",
    "connexion = sqlite3.connect('jobs.db')"
   ]
  },
  {
   "cell_type": "markdown",
   "metadata": {
    "tags": []
   },
   "source": [
    "# Créer un curseur et exécuter une requête SQL sur Python "
   ]
  },
  {
   "cell_type": "code",
   "execution_count": 6,
   "metadata": {},
   "outputs": [],
   "source": [
    "# cursor()\n",
    "cursor = connexion.cursor()"
   ]
  },
  {
   "cell_type": "code",
   "execution_count": 7,
   "metadata": {},
   "outputs": [],
   "source": [
    "#requet SQL qu'on assigne à la varaible query \n",
    "query = \"SELECT * FROM recent_grads;\""
   ]
  },
  {
   "cell_type": "code",
   "execution_count": 8,
   "metadata": {},
   "outputs": [
    {
     "output_type": "execute_result",
     "data": {
      "text/plain": "<sqlite3.Cursor at 0x29eace216c0>"
     },
     "metadata": {},
     "execution_count": 8
    }
   ],
   "source": [
    "# exécute la raquete sql situé dans la variable query \n",
    "cursor.execute(query)"
   ]
  },
  {
   "cell_type": "code",
   "execution_count": 9,
   "metadata": {},
   "outputs": [],
   "source": [
    "# chercher tous les résultats qu'on a récupéré sous la forme d'une liste de tuples\n",
    "resultats = cursor.fetchall()"
   ]
  },
  {
   "cell_type": "code",
   "execution_count": 11,
   "metadata": {
    "tags": []
   },
   "outputs": [
    {
     "output_type": "stream",
     "name": "stdout",
     "text": "[(0, 1, 2419, 'PETROLEUM ENGINEERING', 'Engineering', 2339, 36, 2057, 282, 0.120564344, 1976, 1849, 270, 1207, 37, 0.018380527, 110000, 95000, 125000, 1534, 364, 193), (1, 2, 2416, 'MINING AND MINERAL ENGINEERING', 'Engineering', 756, 7, 679, 77, 0.10185185199999999, 640, 556, 170, 388, 85, 0.117241379, 75000, 55000, 90000, 350, 257, 50), (2, 3, 2415, 'METALLURGICAL ENGINEERING', 'Engineering', 856, 3, 725, 131, 0.153037383, 648, 558, 133, 340, 16, 0.024096386, 73000, 50000, 105000, 456, 176, 0)]\n"
    }
   ],
   "source": [
    "print(resultats[0:3])"
   ]
  },
  {
   "cell_type": "code",
   "execution_count": 13,
   "metadata": {
    "tags": []
   },
   "outputs": [
    {
     "output_type": "stream",
     "name": "stdout",
     "text": "[('PETROLEUM ENGINEERING',), ('MINING AND MINERAL ENGINEERING',), ('METALLURGICAL ENGINEERING',), ('NAVAL ARCHITECTURE AND MARINE ENGINEERING',), ('CHEMICAL ENGINEERING',)]\n"
    }
   ],
   "source": [
    "query2 = \"SELECT Major FROM recent_grads;\"\n",
    "majors = cursor.execute(query2).fetchall()\n",
    "print(majors[0:5])"
   ]
  },
  {
   "cell_type": "markdown",
   "metadata": {},
   "source": [
    "# Chercher un certain nombre de résultats"
   ]
  },
  {
   "cell_type": "code",
   "execution_count": 15,
   "metadata": {},
   "outputs": [
    {
     "output_type": "execute_result",
     "data": {
      "text/plain": "<sqlite3.Cursor at 0x29eacb116c0>"
     },
     "metadata": {},
     "execution_count": 15
    }
   ],
   "source": [
    "# fetchone\n",
    "# fetchmany(n)\n",
    "import sqlite3\n",
    "connexion = sqlite3.connect(\"jobs.db\")\n",
    "cursor = connexion.cursor()\n",
    "query3 = \"SELECT Major, Major_category FROM recent_grads;\"\n",
    "cursor.execute(query3)"
   ]
  },
  {
   "cell_type": "code",
   "execution_count": 16,
   "metadata": {
    "tags": []
   },
   "outputs": [
    {
     "output_type": "stream",
     "name": "stdout",
     "text": "('PETROLEUM ENGINEERING', 'Engineering')\n('MINING AND MINERAL ENGINEERING', 'Engineering')\n"
    }
   ],
   "source": [
    "first_result = cursor.fetchone() # le cursor passe d'un élément au suivant \n",
    "second_result = cursor.fetchone()\n",
    "print(first_result)\n",
    "print(second_result)"
   ]
  },
  {
   "cell_type": "code",
   "execution_count": 17,
   "metadata": {
    "tags": []
   },
   "outputs": [
    {
     "output_type": "stream",
     "name": "stdout",
     "text": "[('METALLURGICAL ENGINEERING', 'Engineering'), ('NAVAL ARCHITECTURE AND MARINE ENGINEERING', 'Engineering'), ('CHEMICAL ENGINEERING', 'Engineering'), ('NUCLEAR ENGINEERING', 'Engineering'), ('ACTUARIAL SCIENCE', 'Business')]\n"
    }
   ],
   "source": [
    "next_five_result = cursor.fetchmany(5)\n",
    "print(next_five_result)"
   ]
  },
  {
   "cell_type": "markdown",
   "metadata": {},
   "source": [
    "# Stopper la connexion à la base de données "
   ]
  },
  {
   "cell_type": "code",
   "execution_count": 18,
   "metadata": {},
   "outputs": [],
   "source": [
    "# close()\n",
    "connexion = sqlite3.connect('jobs.db')"
   ]
  },
  {
   "cell_type": "code",
   "execution_count": 21,
   "metadata": {},
   "outputs": [],
   "source": [
    "connexion.close()"
   ]
  },
  {
   "cell_type": "markdown",
   "metadata": {},
   "source": [
    "## Cas pratique "
   ]
  },
  {
   "cell_type": "code",
   "execution_count": 24,
   "metadata": {
    "tags": []
   },
   "outputs": [
    {
     "output_type": "stream",
     "name": "stdout",
     "text": "[('ZOOLOGY',), ('VISUAL AND PERFORMING ARTS',), ('UNITED STATES HISTORY',), ('TREATMENT THERAPY PROFESSIONS',), ('TRANSPORTATION SCIENCES AND TECHNOLOGIES',), ('THEOLOGY AND RELIGIOUS VOCATIONS',), ('TEACHER EDUCATION: MULTIPLE LEVELS',), ('STUDIO ARTS',), ('STATISTICS AND DECISION SCIENCE',), ('SPECIAL NEEDS EDUCATION',), ('SOIL SCIENCE',), ('SOCIOLOGY',), ('SOCIAL WORK',), ('SOCIAL SCIENCE OR HISTORY TEACHER EDUCATION',), ('SOCIAL PSYCHOLOGY',), ('SECONDARY TEACHER EDUCATION',), ('SCIENCE AND COMPUTER TEACHER EDUCATION',), ('SCHOOL STUDENT COUNSELING',), ('PUBLIC POLICY',), ('PUBLIC ADMINISTRATION',), ('PSYCHOLOGY',), ('PRE-LAW AND LEGAL STUDIES',), ('POLITICAL SCIENCE AND GOVERNMENT',), ('PLANT SCIENCE AND AGRONOMY',), ('PHYSIOLOGY',), ('PHYSICS',), ('PHYSICAL SCIENCES',), ('PHYSICAL FITNESS PARKS RECREATION AND LEISURE',), ('PHYSICAL AND HEALTH EDUCATION TEACHING',), ('PHILOSOPHY AND RELIGIOUS STUDIES',), ('PHARMACY PHARMACEUTICAL SCIENCES AND ADMINISTRATION',), ('PHARMACOLOGY',), ('PETROLEUM ENGINEERING',), ('OTHER FOREIGN LANGUAGES',), ('OPERATIONS LOGISTICS AND E-COMMERCE',), ('OCEANOGRAPHY',), ('NUTRITION SCIENCES',), ('NURSING',), ('NUCLEAR, INDUSTRIAL RADIOLOGY, AND BIOLOGICAL TECHNOLOGIES',), ('NUCLEAR ENGINEERING',), ('NEUROSCIENCE',), ('NAVAL ARCHITECTURE AND MARINE ENGINEERING',), ('NATURAL RESOURCES MANAGEMENT',), ('MUSIC',), ('MULTI/INTERDISCIPLINARY STUDIES',), ('MULTI-DISCIPLINARY OR GENERAL SCIENCE',), ('MOLECULAR BIOLOGY',), ('MISCELLANEOUS SOCIAL SCIENCES',), ('MISCELLANEOUS PSYCHOLOGY',), ('MISCELLANEOUS HEALTH MEDICAL PROFESSIONS',), ('MISCELLANEOUS FINE ARTS',), ('MISCELLANEOUS ENGINEERING TECHNOLOGIES',), ('MISCELLANEOUS ENGINEERING',), ('MISCELLANEOUS EDUCATION',), ('MISCELLANEOUS BUSINESS & MEDICAL ADMINISTRATION',), ('MISCELLANEOUS BIOLOGY',), ('MISCELLANEOUS AGRICULTURE',), ('MINING AND MINERAL ENGINEERING',), ('MILITARY TECHNOLOGIES',), ('MICROBIOLOGY',), ('METALLURGICAL ENGINEERING',), ('MEDICAL TECHNOLOGIES TECHNICIANS',), ('MEDICAL ASSISTING SERVICES',), ('MECHANICAL ENGINEERING RELATED TECHNOLOGIES',), ('MECHANICAL ENGINEERING',), ('MATHEMATICS TEACHER EDUCATION',), ('MATHEMATICS AND COMPUTER SCIENCE',), ('MATHEMATICS',), ('MATERIALS SCIENCE',), ('MATERIALS ENGINEERING AND MATERIALS SCIENCE',), ('MASS MEDIA',), ('MARKETING AND MARKETING RESEARCH',), ('MANAGEMENT INFORMATION SYSTEMS AND STATISTICS',), ('LINGUISTICS AND COMPARATIVE LANGUAGE AND LITERATURE',), ('LIBRARY SCIENCE',), ('LIBERAL ARTS',), ('LANGUAGE AND DRAMA EDUCATION',), ('JOURNALISM',), ('INTERNATIONAL RELATIONS',), ('INTERNATIONAL BUSINESS',), ('INTERDISCIPLINARY SOCIAL SCIENCES',), ('INTERCULTURAL AND INTERNATIONAL STUDIES',), ('INFORMATION SCIENCES',), ('INDUSTRIAL PRODUCTION TECHNOLOGIES',), ('INDUSTRIAL AND ORGANIZATIONAL PSYCHOLOGY',), ('INDUSTRIAL AND MANUFACTURING ENGINEERING',), ('HUMANITIES',), ('HUMAN SERVICES AND COMMUNITY ORGANIZATION',), ('HUMAN RESOURCES AND PERSONNEL MANAGEMENT',), ('HOSPITALITY MANAGEMENT',), ('HISTORY',), ('HEALTH AND MEDICAL PREPARATORY PROGRAMS',), ('HEALTH AND MEDICAL ADMINISTRATIVE SERVICES',), ('GEOSCIENCES',), ('GEOLOGY AND EARTH SCIENCE',), ('GEOLOGICAL AND GEOPHYSICAL ENGINEERING',), ('GEOGRAPHY',), ('GENETICS',), ('GENERAL SOCIAL SCIENCES',), ('GENERAL MEDICAL AND HEALTH SERVICES',), ('GENERAL ENGINEERING',), ('GENERAL EDUCATION',), ('GENERAL BUSINESS',), ('GENERAL AGRICULTURE',), ('FRENCH GERMAN LATIN AND OTHER COMMON FOREIGN LANGUAGE STUDIES',), ('FORESTRY',), ('FOOD SCIENCE',), ('FINE ARTS',), ('FINANCE',), ('FILM VIDEO AND PHOTOGRAPHIC ARTS',), ('FAMILY AND CONSUMER SCIENCES',), ('ENVIRONMENTAL SCIENCE',), ('ENVIRONMENTAL ENGINEERING',), ('ENGLISH LANGUAGE AND LITERATURE',), ('ENGINEERING TECHNOLOGIES',), ('ENGINEERING MECHANICS PHYSICS AND SCIENCE',), ('ENGINEERING AND INDUSTRIAL MANAGEMENT',), ('ELEMENTARY EDUCATION',), ('ELECTRICAL, MECHANICAL, AND PRECISION TECHNOLOGIES AND PRODUCTION',), ('ELECTRICAL ENGINEERING TECHNOLOGY',), ('ELECTRICAL ENGINEERING',), ('EDUCATIONAL PSYCHOLOGY',), ('EDUCATIONAL ADMINISTRATION AND SUPERVISION',), ('ECONOMICS',), ('ECOLOGY',), ('EARLY CHILDHOOD EDUCATION',), ('DRAMA AND THEATER ARTS',), ('CRIMINOLOGY',), ('CRIMINAL JUSTICE AND FIRE PROTECTION',), ('COURT REPORTING',), ('COUNSELING PSYCHOLOGY',), ('COSMETOLOGY SERVICES AND CULINARY ARTS',), ('CONSTRUCTION SERVICES',), ('COMPUTER SCIENCE',), ('COMPUTER PROGRAMMING AND DATA PROCESSING',), ('COMPUTER NETWORKING AND TELECOMMUNICATIONS',), ('COMPUTER ENGINEERING',), ('COMPUTER AND INFORMATION SYSTEMS',), ('COMPUTER ADMINISTRATION MANAGEMENT AND SECURITY',), ('COMPOSITION AND RHETORIC',), ('COMMUNITY AND PUBLIC HEALTH',), ('COMMUNICATIONS',), ('COMMUNICATION TECHNOLOGIES',), ('COMMUNICATION DISORDERS SCIENCES AND SERVICES',), ('COMMERCIAL ART AND GRAPHIC DESIGN',), ('COGNITIVE SCIENCE AND BIOPSYCHOLOGY',), ('CLINICAL PSYCHOLOGY',), ('CIVIL ENGINEERING',), ('CHEMISTRY',), ('CHEMICAL ENGINEERING',), ('BUSINESS MANAGEMENT AND ADMINISTRATION',), ('BUSINESS ECONOMICS',), ('BOTANY',), ('BIOMEDICAL ENGINEERING',), ('BIOLOGY',), ('BIOLOGICAL ENGINEERING',), ('BIOCHEMICAL SCIENCES',), ('ATMOSPHERIC SCIENCES AND METEOROLOGY',), ('ASTRONOMY AND ASTROPHYSICS',), ('ART HISTORY AND CRITICISM',), ('ART AND MUSIC EDUCATION',), ('AREA ETHNIC AND CIVILIZATION STUDIES',), ('ARCHITECTURE',), ('ARCHITECTURAL ENGINEERING',), ('APPLIED MATHEMATICS',), ('ANTHROPOLOGY AND ARCHEOLOGY',), ('ANIMAL SCIENCES',), ('AGRICULTURE PRODUCTION AND MANAGEMENT',), ('AGRICULTURAL ECONOMICS',), ('AEROSPACE ENGINEERING',), ('ADVERTISING AND PUBLIC RELATIONS',), ('ACTUARIAL SCIENCE',), ('ACCOUNTING',)]\n"
    }
   ],
   "source": [
    "import sqlite3\n",
    "connexion = sqlite3.connect('jobs2.db')\n",
    "query4 = \"SELECT Major FROM recent_grads ORDER BY Major DESC;\"\n",
    "result = connexion.cursor().execute(query4).fetchall()\n",
    "print(result)"
   ]
  },
  {
   "cell_type": "code",
   "execution_count": 25,
   "metadata": {},
   "outputs": [],
   "source": [
    "connexion.close()"
   ]
  },
  {
   "cell_type": "markdown",
   "metadata": {},
   "source": [
    "# Compter le nombre de lignes en SQL"
   ]
  },
  {
   "cell_type": "code",
   "execution_count": 1,
   "metadata": {
    "tags": []
   },
   "outputs": [
    {
     "output_type": "stream",
     "name": "stdout",
     "text": "[(228,)]\n"
    }
   ],
   "source": [
    "import sqlite3\n",
    "\n",
    "connexion = sqlite3.connect('factbook.db')\n",
    "\n",
    "birth_rate_tuple = connexion.execute('select count(birth_rate) from facts;').fetchall()\n",
    "print(birth_rate_tuple)"
   ]
  },
  {
   "cell_type": "markdown",
   "metadata": {},
   "source": [
    "# Trouver les valeurs minimales et maximales d'une colonne en SQL"
   ]
  },
  {
   "cell_type": "code",
   "execution_count": 5,
   "metadata": {
    "tags": []
   },
   "outputs": [
    {
     "output_type": "stream",
     "name": "stdout",
     "text": "0.0\n"
    }
   ],
   "source": [
    "import sqlite3\n",
    "connexion = sqlite3.connect('factbook.db')\n",
    "pop_growth_tuple= connexion.execute('select min(population_growth) from facts').fetchall()\n",
    "min_pop_growth = pop_growth_tuple[0][0]\n",
    "print(min_pop_growth)\n"
   ]
  },
  {
   "cell_type": "code",
   "execution_count": 6,
   "metadata": {
    "tags": []
   },
   "outputs": [
    {
     "output_type": "stream",
     "name": "stdout",
     "text": "4.02\n"
    }
   ],
   "source": [
    "import sqlite3\n",
    "connexion = sqlite3.connect('factbook.db')\n",
    "pop_growth_tuple= connexion.execute('select max(population_growth) from facts').fetchall()\n",
    "max_pop_growth = pop_growth_tuple[0][0]\n",
    "print(max_pop_growth)"
   ]
  },
  {
   "cell_type": "markdown",
   "metadata": {},
   "source": [
    "# Calculer des sommes et des moyennes sur SQL "
   ]
  },
  {
   "cell_type": "code",
   "execution_count": 9,
   "metadata": {
    "tags": []
   },
   "outputs": [
    {
     "output_type": "stream",
     "name": "stdout",
     "text": "128584834\n"
    }
   ],
   "source": [
    "import sqlite3\n",
    "\n",
    "connexion = sqlite3.connect('factbook.db')\n",
    "sum_area_land_tuple = connexion.execute('select sum(area_land) from facts').fetchall()\n",
    "sum_area_land = sum_area_land_tuple[0][0]\n",
    "print(sum_area_land)"
   ]
  },
  {
   "cell_type": "code",
   "execution_count": 10,
   "metadata": {
    "tags": []
   },
   "outputs": [
    {
     "output_type": "stream",
     "name": "stdout",
     "text": "19067.59259259259\n"
    }
   ],
   "source": [
    "sum_area_water_tuple = connexion.execute('select avg(area_water) from facts').fetchall()\n",
    "sum_area_water = sum_area_water_tuple[0][0]\n",
    "print(sum_area_water)"
   ]
  },
  {
   "cell_type": "markdown",
   "metadata": {},
   "source": [
    "# Combiner plusieurs fonctions "
   ]
  },
  {
   "cell_type": "code",
   "execution_count": 14,
   "metadata": {
    "tags": []
   },
   "outputs": [
    {
     "output_type": "stream",
     "name": "stdout",
     "text": "[(62094928.32231405, 15026972654, 45.45)]\n62094928.32231405\n15026972654\n45.45\n"
    }
   ],
   "source": [
    "import sqlite3\n",
    "\n",
    "connexion = sqlite3.connect('factbook.db')\n",
    "a = connexion.execute('select avg(population), sum(population), max(birth_rate) from facts;').fetchall()\n",
    "moy_population = a[0][0]\n",
    "sum_population = a[0][1]\n",
    "max_birth_rate = a[0][2]\n",
    "print(a)\n",
    "print(moy_population)\n",
    "print(sum_population)\n",
    "print(max_birth_rate)"
   ]
  },
  {
   "cell_type": "markdown",
   "metadata": {},
   "source": [
    "# Associer les fonctions de calcul avec la condition WHERE "
   ]
  },
  {
   "cell_type": "code",
   "execution_count": 17,
   "metadata": {
    "tags": []
   },
   "outputs": [
    {
     "output_type": "stream",
     "name": "stdout",
     "text": "1.4572222222222226\n"
    }
   ],
   "source": [
    "import sqlite3\n",
    "\n",
    "connexion = sqlite3.connect('factbook.db')\n",
    "a = connexion.execute('select avg(population_growth) from facts where population > 10000000').fetchall()\n",
    "pop_grow = a[0][0]\n",
    "print(pop_grow) "
   ]
  },
  {
   "cell_type": "markdown",
   "metadata": {},
   "source": [
    "# Sélectionner des éléments ou données uniques "
   ]
  },
  {
   "cell_type": "code",
   "execution_count": 23,
   "metadata": {
    "tags": []
   },
   "outputs": [
    {
     "output_type": "stream",
     "name": "stdout",
     "text": "[(38.57,), (12.92,), (23.67,), (8.13,), (38.78,), (15.85,), (16.64,), (13.61,), (12.15,), (9.41,), (15.5,), (13.66,), (21.14,), (11.87,), (10.7,), (11.41,), (24.68,), (36.02,), (17.78,), (22.76,), (8.87,), (20.96,), (14.46,), (17.32,), (8.92,), (42.03,), (18.39,), (42.01,), (23.83,), (36.17,), (10.28,), (20.33,), (35.08,), (36.6,), (13.83,), (12.49,), (16.47,), (27.84,), (34.88,), (35.85,), (15.91,), (28.67,), (9.45,), (9.9,), (9.63,), (10.27,), (23.65,), (15.41,), (18.73,), (18.51,), (22.9,), (16.46,), (33.31,), (30.0,), (10.51,), (37.27,), (19.43,), (10.72,), (12.38,), (34.49,), (30.86,), (12.74,), (8.47,), (31.09,), (8.66,), (16.03,), (24.89,), (35.74,), (33.38,), (15.59,), (22.31,), (23.14,), (9.16,), (13.91,), (19.55,), (16.72,), (17.99,), (31.45,), (14.84,), (18.48,), (8.74,), (18.16,), (7.93,), (25.37,), (19.15,), (26.4,), (21.46,), (14.52,), (8.19,), (None,), (19.91,), (22.98,), (24.25,), (10.0,), (14.59,), (25.47,), (34.41,), (18.03,), (10.45,), (10.1,), (11.37,), (11.55,), (32.61,), (41.56,), (19.71,), (15.75,), (44.99,), (10.18,), (25.6,), (31.34,), (13.29,), (18.78,), (20.54,), (12.0,), (6.65,), (20.25,), (10.42,), (18.2,), (38.58,), (19.8,), (24.95,), (20.64,), (10.83,), (13.33,), (45.45,), (37.64,), (12.14,), (24.44,), (22.58,), (11.05,), (18.32,), (24.38,), (16.37,), (18.28,), (24.27,), (9.74,), (9.27,), (9.84,), (9.14,), (11.6,), (33.75,), (13.5,), (13.7,), (13.57,), (20.87,), (8.63,), (34.23,), (34.52,), (9.08,), (14.19,), (37.03,), (8.27,), (9.91,), (8.42,), (25.77,), (40.45,), (20.75,), (36.91,), (9.64,), (29.19,), (16.34,), (24.67,), (11.99,), (10.5,), (22.17,), (36.39,), (11.19,), (34.16,), (34.13,), (23.0,), (13.46,), (16.33,), (19.4,), (23.74,), (43.79,), (15.43,), (12.17,), (13.07,), (17.0,), (25.04,), (19.16,), (15.96,), (29.98,), (42.13,), (32.26,), (10.2,), (9.23,), (8.88,), (13.77,), (14.48,), (15.22,), (15.33,), (7.42,), (13.45,), (12.56,), (13.8,), (13.0,), (14.33,), (12.67,), (11.33,), (10.91,), (12.11,), (10.9,), (14.08,), (11.91,), (11.1,), (11.26,), (9.88,), (16.13,), (22.89,), (16.82,), (10.86,), (10.31,), (31.11,), (22.99,), (30.24,), (18.6,)]\n"
    }
   ],
   "source": [
    "import sqlite3\n",
    "connexion = sqlite3.connect('factbook.db')\n",
    "\n",
    "a = connexion.execute('select distinct birth_rate from facts').fetchall()\n",
    "print(a)"
   ]
  },
  {
   "cell_type": "markdown",
   "metadata": {},
   "source": [
    "# Associer les fonctions de calcul avec DISTINCT"
   ]
  },
  {
   "cell_type": "code",
   "execution_count": 27,
   "metadata": {
    "tags": []
   },
   "outputs": [
    {
     "output_type": "stream",
     "name": "stdout",
     "text": "20.43473684210527\n"
    }
   ],
   "source": [
    "import sqlite3\n",
    "connexion = sqlite3.connect('factbook.db')\n",
    "a = connexion.execute('select avg(distinct birth_rate) from facts where population > 20000000').fetchall()\n",
    "mean_dist_birth_rate = a[0][0]\n",
    "print(mean_dist_birth_rate)"
   ]
  },
  {
   "cell_type": "markdown",
   "metadata": {},
   "source": [
    "# Opérations mathépatiques en SQL "
   ]
  },
  {
   "cell_type": "code",
   "execution_count": 28,
   "metadata": {
    "tags": []
   },
   "outputs": [
    {
     "output_type": "stream",
     "name": "stdout",
     "text": "[(2.32e-06,), (3e-07,), (1.8400000000000002e-06,), (1.2e-07,), (2.7799999999999996e-06,), (1.24e-06,), (9.300000000000001e-07,), (1.5e-07,), (1.0700000000000001e-06,), (5.5e-07,), (9.6e-07,), (8.5e-07,), (2.4100000000000002e-06,), (1.6000000000000001e-06,), (3.1e-07,), (2.0000000000000002e-07,), (7.6e-07,), (1.87e-06,), (2.7799999999999996e-06,), (1.1100000000000002e-06,), (1.56e-06,), (1.3e-07,), (1.21e-06,), (7.7e-07,), (1.6200000000000002e-06,), (5.8e-07,), (3.03e-06,), (1.01e-06,), (3.28e-06,), (1.5800000000000001e-06,), (2.5899999999999998e-06,), (7.5e-07,), (1.3600000000000001e-06,), (2.13e-06,), (1.89e-06,), (8.2e-07,), (4.5000000000000003e-07,), (1.04e-06,), (1.77e-06,), (2.4500000000000003e-06,), (2e-06,), (1.22e-06,), (1.91e-06,), (1.3e-07,), (1.5e-07,), (1.4299999999999999e-06,), (1.6e-07,), (2.2e-07,), (2.2e-06,), (2.1e-07,), (1.23e-06,), (1.35e-06,), (1.79e-06,), (2.5e-07,), (2.5099999999999997e-06,), (2.25e-06,), (5.5e-07,), (2.8900000000000003e-06,), (6.7e-07,), (4.0000000000000003e-07,), (4.3e-07,), (1.9299999999999997e-06,), (2.16e-06,), (8e-08,), (1.7000000000000001e-07,), (2.1800000000000003e-06,), (1e-08,), (4.8e-07,), (1.8200000000000002e-06,), (2.63e-06,), (1.91e-06,), (2e-08,), (1.17e-06,), (1.68e-06,), (2.2e-07,), (1.21e-06,), (1.22e-06,), (9.200000000000001e-07,), (1.2e-06,), (2.9300000000000003e-06,), (1.25e-06,), (1.56e-06,), (2.7e-07,), (6.800000000000001e-07,), (1.6e-07,), (8.3e-07,), (1.1399999999999999e-06,), (1.9299999999999997e-06,), (1.15e-06,), (5.3e-07,), (1.4e-07,), (None,), (1.6200000000000002e-06,), (1.1100000000000002e-06,), (1.55e-06,), (1.06e-06,), (8.6e-07,), (3.2e-07,), (2.47e-06,), (2.23e-06,), (8.4e-07,), (1.04e-06,), (2.13e-06,), (2.0000000000000002e-07,), (2.58e-06,), (3.32e-06,), (1.44e-06,), (8e-08,), (2.98e-06,), (3.1e-07,), (1.66e-06,), (2.23e-06,), (6.4e-07,), (1.18e-06,), (4.6000000000000004e-07,), (1.03e-06,), (1.2e-07,), (1.31e-06,), (4.2e-07,), (1e-06,), (2.4500000000000003e-06,), (5.9e-07,), (5.5e-07,), (1.79e-06,), (4.1e-07,), (8.2e-07,), (1e-06,), (3.25e-06,), (2.4500000000000003e-06,), (1.13e-06,), (2.0699999999999997e-06,), (1.46e-06,), (3.8e-07,), (1.32e-06,), (1.7800000000000001e-06,), (1.16e-06,), (9.7e-07,), (1.61e-06,), (9e-08,), (9e-08,), (3.07e-06,), (3e-07,), (4e-08,), (2.56e-06,), (7.6e-07,), (3.4000000000000003e-07,), (2.8e-07,), (5.8e-07,), (8.2e-07,), (1.8400000000000002e-06,), (1.46e-06,), (2.4500000000000003e-06,), (4.6000000000000004e-07,), (8.3e-07,), (2.35e-06,), (1.89e-06,), (2e-08,), (2.6e-07,), (2.02e-06,), (1.83e-06,), (1.33e-06,), (4.02e-06,), (8.900000000000001e-07,), (8.4e-07,), (1.72e-06,), (1.08e-06,), (1.1100000000000002e-06,), (8.000000000000001e-07,), (7.1e-07,), (1.6e-07,), (1.71e-06,), (2.79e-06,), (3.4000000000000003e-07,), (2.42e-06,), (2.69e-06,), (3e-08,), (1.3e-07,), (8.900000000000001e-07,), (1.26e-06,), (1.1399999999999999e-06,), (8.2e-07,), (3.2400000000000003e-06,), (6e-07,), (2.58e-06,), (5.4e-07,), (7.8e-07,), (2.7e-07,), (9.300000000000001e-07,), (1.95e-06,), (0.0,), (1.3899999999999998e-06,), (9.7e-07,), (2.47e-06,), (2.88e-06,), (2.21e-06,), (2.3000000000000002e-07,), (2.5e-07,), (None,), (1.1100000000000002e-06,), (0.0,), (None,), (None,), (1e-08,), (3.8e-07,), (8.000000000000001e-07,), (5.1e-07,), (0.0,), (None,), (9.399999999999999e-07,), (None,), (1.38e-06,), (None,), (None,), (1.08e-06,), (3.3e-07,), (1.33e-06,), (4.3e-07,), (1.51e-06,), (2.95e-06,), (3e-08,), (1e-08,), (None,), (None,), (3e-08,), (None,), (2.0299999999999996e-06,), (5e-07,), (None,), (2.32e-06,), (2.1000000000000002e-06,), (None,), (1e-08,), (2.4e-07,), (3.4000000000000003e-07,), (8.000000000000001e-07,), (7.6e-07,), (5e-07,), (0.0,), (2.4e-07,), (None,), (2.3e-06,), (3e-07,), (5.4e-07,), (None,), (2.1800000000000003e-06,), (6e-07,), (5.9e-07,), (None,), (None,), (None,), (2.81e-06,), (None,), (None,), (1.95e-06,), (2.8199999999999997e-06,), (None,), (None,), (None,), (None,), (None,), (1.08e-06,)]\n"
    }
   ],
   "source": [
    "import sqlite3\n",
    "connexion = sqlite3.connect('factbook.db')\n",
    "\n",
    "population_growth_millions = connexion.execute('select population_growth / 1000000.0 from facts').fetchall()\n",
    "print(population_growth_millions)"
   ]
  },
  {
   "cell_type": "markdown",
   "metadata": {},
   "source": [
    "# Executer des opérations mathématiques entre colonnes "
   ]
  },
  {
   "cell_type": "code",
   "execution_count": 2,
   "metadata": {
    "tags": []
   },
   "outputs": [
    {
     "output_type": "error",
     "ename": "OperationalError",
     "evalue": "no such table: facts",
     "traceback": [
      "\u001b[1;31m---------------------------------------------------------------------------\u001b[0m",
      "\u001b[1;31mOperationalError\u001b[0m                          Traceback (most recent call last)",
      "\u001b[1;32m<ipython-input-2-52690096a511>\u001b[0m in \u001b[0;36m<module>\u001b[1;34m\u001b[0m\n\u001b[1;32m----> 1\u001b[1;33m \u001b[0mpopulation_an_prochain\u001b[0m \u001b[1;33m=\u001b[0m \u001b[0mconnexion\u001b[0m\u001b[1;33m.\u001b[0m\u001b[0mexecute\u001b[0m\u001b[1;33m(\u001b[0m\u001b[1;34m'select name, population * (population_growth + 1) from facts;'\u001b[0m\u001b[1;33m)\u001b[0m\u001b[1;33m.\u001b[0m\u001b[0mfetchall\u001b[0m\u001b[1;33m(\u001b[0m\u001b[1;33m)\u001b[0m\u001b[1;33m\u001b[0m\u001b[1;33m\u001b[0m\u001b[0m\n\u001b[0m\u001b[0;32m      2\u001b[0m \u001b[1;32mfor\u001b[0m \u001b[0mi\u001b[0m \u001b[1;32min\u001b[0m \u001b[0mpopulation_an_prochain\u001b[0m\u001b[1;33m:\u001b[0m\u001b[1;33m\u001b[0m\u001b[1;33m\u001b[0m\u001b[0m\n\u001b[0;32m      3\u001b[0m     \u001b[0mprint\u001b[0m\u001b[1;33m(\u001b[0m\u001b[0mi\u001b[0m\u001b[1;33m[\u001b[0m\u001b[1;36m0\u001b[0m\u001b[1;33m]\u001b[0m\u001b[1;33m,\u001b[0m \u001b[0mi\u001b[0m\u001b[1;33m[\u001b[0m\u001b[1;36m1\u001b[0m\u001b[1;33m]\u001b[0m\u001b[1;33m)\u001b[0m\u001b[1;33m\u001b[0m\u001b[1;33m\u001b[0m\u001b[0m\n",
      "\u001b[1;31mOperationalError\u001b[0m: no such table: facts"
     ]
    }
   ],
   "source": [
    "population_an_prochain = connexion.execute('select name, population * (population_growth + 1) from facts;').fetchall()\n",
    "for i in population_an_prochain:\n",
    "    print(i[0], i[1])"
   ]
  },
  {
   "cell_type": "markdown",
   "metadata": {},
   "source": [
    "# Normalisation de la base de données "
   ]
  },
  {
   "cell_type": "code",
   "execution_count": 1,
   "metadata": {
    "tags": []
   },
   "outputs": [
    {
     "output_type": "stream",
     "name": "stdout",
     "text": "('Natalie Portman', 2010)\n('Natalie Portman', 2004)\n"
    }
   ],
   "source": [
    "import sqlite3\n",
    "connexion = sqlite3.connect('academy_awards.db')\n",
    "portman_query = 'SELECT nominations.nominee, ceremonies.year FROM nominations INNER JOIN ceremonies ON nominations.ceremony_id == ceremonies.id WHERE nominations.nominee == \"Natalie Portman\";'\n",
    "portman_movies = connexion.execute(portman_query).fetchall()\n",
    "for p in portman_movies:\n",
    "    print(p)\n"
   ]
  },
  {
   "cell_type": "markdown",
   "metadata": {},
   "source": [
    "# Créer une join table ou table intermidiaire"
   ]
  },
  {
   "cell_type": "markdown",
   "metadata": {},
   "source": [
    "relation many to many  \n",
    "tous les film dans lesquels natalie portman a joué"
   ]
  },
  {
   "cell_type": "code",
   "execution_count": 4,
   "metadata": {
    "tags": []
   },
   "outputs": [
    {
     "output_type": "stream",
     "name": "stdout",
     "text": "('Black Swan', 'Natalie Portman')\n('Closer', 'Natalie Portman')\n"
    }
   ],
   "source": [
    "import sqlite3\n",
    "connexion = sqlite3.connect('academy_awards.db')\n",
    "natalie_query = \"SELECT movies.movie, actors.actor FROM movies INNER JOIN movies_actors ON movies.id == movies_actors.movie_id INNER JOIN actors ON movies_actors.actor_id == actors.id WHERE actors.actor == 'Natalie Portman'\"\n",
    "natalie_movies = connexion.execute(natalie_query).fetchall()\n",
    "for i in natalie_movies:\n",
    "    print(i)"
   ]
  },
  {
   "cell_type": "code",
   "execution_count": null,
   "metadata": {},
   "outputs": [],
   "source": []
  }
 ]
}